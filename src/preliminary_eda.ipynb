{
 "cells": [
  {
   "cell_type": "markdown",
   "id": "a8551916",
   "metadata": {},
   "source": [
    "- Name: SatishReddy Bathula(CZ12651)\n",
    "- Project Title: Restaurant Reccomendations Using Yelp Data\n",
    "- [Source_Link](https://www.yelp.com/dataset/download)"
   ]
  },
  {
   "cell_type": "markdown",
   "id": "145cd076",
   "metadata": {},
   "source": [
    "# Description of Dataset\n",
    "The Yelp dataset is a comprehensive collection of data that includes information about businesses, reviews, users, check-ins, tips, and photos. It provides details such as business attributes, user-generated reviews, ratings, user profiles, check-in activity, and recommendations. The dataset offers opportunities for research and analysis in areas like natural language processing, sentiment analysis, recommender systems, and geographic analysis. With its rich and diverse data, the Yelp dataset serves as a valuable resource for understanding businesses, user behavior, and the dynamics of online reviews and recommendations."
   ]
  },
  {
   "cell_type": "markdown",
   "id": "f56a5220",
   "metadata": {},
   "source": [
    "# Importing Necessary libraries"
   ]
  },
  {
   "cell_type": "code",
   "execution_count": 2,
   "id": "194a801d",
   "metadata": {},
   "outputs": [],
   "source": [
    "import pandas as pd\n",
    "import matplotlib.pyplot as plt\n"
   ]
  },
  {
   "cell_type": "markdown",
   "id": "26d574a6",
   "metadata": {},
   "source": [
    "# Loading the Dataset"
   ]
  },
  {
   "cell_type": "code",
   "execution_count": 7,
   "id": "0a3a8fd6",
   "metadata": {},
   "outputs": [
    {
     "data": {
      "text/html": [
       "<div>\n",
       "<style scoped>\n",
       "    .dataframe tbody tr th:only-of-type {\n",
       "        vertical-align: middle;\n",
       "    }\n",
       "\n",
       "    .dataframe tbody tr th {\n",
       "        vertical-align: top;\n",
       "    }\n",
       "\n",
       "    .dataframe thead th {\n",
       "        text-align: right;\n",
       "    }\n",
       "</style>\n",
       "<table border=\"1\" class=\"dataframe\">\n",
       "  <thead>\n",
       "    <tr style=\"text-align: right;\">\n",
       "      <th></th>\n",
       "      <th>business_id</th>\n",
       "      <th>name</th>\n",
       "      <th>address</th>\n",
       "      <th>city</th>\n",
       "      <th>state</th>\n",
       "      <th>postal_code</th>\n",
       "      <th>latitude</th>\n",
       "      <th>longitude</th>\n",
       "      <th>stars</th>\n",
       "      <th>review_count</th>\n",
       "      <th>is_open</th>\n",
       "      <th>attributes</th>\n",
       "      <th>categories</th>\n",
       "      <th>hours</th>\n",
       "    </tr>\n",
       "  </thead>\n",
       "  <tbody>\n",
       "    <tr>\n",
       "      <th>0</th>\n",
       "      <td>Pns2l4eNsfO8kk83dixA6A</td>\n",
       "      <td>Abby Rappoport, LAC, CMQ</td>\n",
       "      <td>1616 Chapala St, Ste 2</td>\n",
       "      <td>Santa Barbara</td>\n",
       "      <td>CA</td>\n",
       "      <td>93101</td>\n",
       "      <td>34.426679</td>\n",
       "      <td>-119.711197</td>\n",
       "      <td>5.0</td>\n",
       "      <td>7</td>\n",
       "      <td>0</td>\n",
       "      <td>{'ByAppointmentOnly': 'True'}</td>\n",
       "      <td>Doctors, Traditional Chinese Medicine, Naturop...</td>\n",
       "      <td>None</td>\n",
       "    </tr>\n",
       "    <tr>\n",
       "      <th>1</th>\n",
       "      <td>mpf3x-BjTdTEA3yCZrAYPw</td>\n",
       "      <td>The UPS Store</td>\n",
       "      <td>87 Grasso Plaza Shopping Center</td>\n",
       "      <td>Affton</td>\n",
       "      <td>MO</td>\n",
       "      <td>63123</td>\n",
       "      <td>38.551126</td>\n",
       "      <td>-90.335695</td>\n",
       "      <td>3.0</td>\n",
       "      <td>15</td>\n",
       "      <td>1</td>\n",
       "      <td>{'BusinessAcceptsCreditCards': 'True'}</td>\n",
       "      <td>Shipping Centers, Local Services, Notaries, Ma...</td>\n",
       "      <td>{'Monday': '0:0-0:0', 'Tuesday': '8:0-18:30', ...</td>\n",
       "    </tr>\n",
       "    <tr>\n",
       "      <th>2</th>\n",
       "      <td>tUFrWirKiKi_TAnsVWINQQ</td>\n",
       "      <td>Target</td>\n",
       "      <td>5255 E Broadway Blvd</td>\n",
       "      <td>Tucson</td>\n",
       "      <td>AZ</td>\n",
       "      <td>85711</td>\n",
       "      <td>32.223236</td>\n",
       "      <td>-110.880452</td>\n",
       "      <td>3.5</td>\n",
       "      <td>22</td>\n",
       "      <td>0</td>\n",
       "      <td>{'BikeParking': 'True', 'BusinessAcceptsCredit...</td>\n",
       "      <td>Department Stores, Shopping, Fashion, Home &amp; G...</td>\n",
       "      <td>{'Monday': '8:0-22:0', 'Tuesday': '8:0-22:0', ...</td>\n",
       "    </tr>\n",
       "    <tr>\n",
       "      <th>3</th>\n",
       "      <td>MTSW4McQd7CbVtyjqoe9mw</td>\n",
       "      <td>St Honore Pastries</td>\n",
       "      <td>935 Race St</td>\n",
       "      <td>Philadelphia</td>\n",
       "      <td>PA</td>\n",
       "      <td>19107</td>\n",
       "      <td>39.955505</td>\n",
       "      <td>-75.155564</td>\n",
       "      <td>4.0</td>\n",
       "      <td>80</td>\n",
       "      <td>1</td>\n",
       "      <td>{'RestaurantsDelivery': 'False', 'OutdoorSeati...</td>\n",
       "      <td>Restaurants, Food, Bubble Tea, Coffee &amp; Tea, B...</td>\n",
       "      <td>{'Monday': '7:0-20:0', 'Tuesday': '7:0-20:0', ...</td>\n",
       "    </tr>\n",
       "    <tr>\n",
       "      <th>4</th>\n",
       "      <td>mWMc6_wTdE0EUBKIGXDVfA</td>\n",
       "      <td>Perkiomen Valley Brewery</td>\n",
       "      <td>101 Walnut St</td>\n",
       "      <td>Green Lane</td>\n",
       "      <td>PA</td>\n",
       "      <td>18054</td>\n",
       "      <td>40.338183</td>\n",
       "      <td>-75.471659</td>\n",
       "      <td>4.5</td>\n",
       "      <td>13</td>\n",
       "      <td>1</td>\n",
       "      <td>{'BusinessAcceptsCreditCards': 'True', 'Wheelc...</td>\n",
       "      <td>Brewpubs, Breweries, Food</td>\n",
       "      <td>{'Wednesday': '14:0-22:0', 'Thursday': '16:0-2...</td>\n",
       "    </tr>\n",
       "    <tr>\n",
       "      <th>...</th>\n",
       "      <td>...</td>\n",
       "      <td>...</td>\n",
       "      <td>...</td>\n",
       "      <td>...</td>\n",
       "      <td>...</td>\n",
       "      <td>...</td>\n",
       "      <td>...</td>\n",
       "      <td>...</td>\n",
       "      <td>...</td>\n",
       "      <td>...</td>\n",
       "      <td>...</td>\n",
       "      <td>...</td>\n",
       "      <td>...</td>\n",
       "      <td>...</td>\n",
       "    </tr>\n",
       "    <tr>\n",
       "      <th>49995</th>\n",
       "      <td>GAgosZDSlzC5WpGrb0ic4g</td>\n",
       "      <td>Perry Anthony Salon &amp; Spa</td>\n",
       "      <td>5331 Limestone Rd</td>\n",
       "      <td>Wilmington</td>\n",
       "      <td>DE</td>\n",
       "      <td>19808</td>\n",
       "      <td>39.746909</td>\n",
       "      <td>-75.698912</td>\n",
       "      <td>4.0</td>\n",
       "      <td>17</td>\n",
       "      <td>1</td>\n",
       "      <td>{'BusinessParking': '{'garage': False, 'street...</td>\n",
       "      <td>Beauty &amp; Spas, Hair Salons, Fitness &amp; Instruct...</td>\n",
       "      <td>{'Monday': '9:30-20:0', 'Tuesday': '9:30-20:0'...</td>\n",
       "    </tr>\n",
       "    <tr>\n",
       "      <th>49996</th>\n",
       "      <td>EUvjJe90Hxh6wznY9qEbsQ</td>\n",
       "      <td>Fantastic Sams Cut &amp; Color</td>\n",
       "      <td>3150 Tampa Rd</td>\n",
       "      <td>Oldsmar</td>\n",
       "      <td>FL</td>\n",
       "      <td>34677</td>\n",
       "      <td>28.049983</td>\n",
       "      <td>-82.698013</td>\n",
       "      <td>3.5</td>\n",
       "      <td>12</td>\n",
       "      <td>1</td>\n",
       "      <td>{'GoodForKids': 'True', 'BikeParking': 'False'...</td>\n",
       "      <td>Hair Salons, Beauty &amp; Spas, Hair Removal, Barbers</td>\n",
       "      <td>{'Monday': '9:0-19:0', 'Tuesday': '9:0-19:0', ...</td>\n",
       "    </tr>\n",
       "    <tr>\n",
       "      <th>49997</th>\n",
       "      <td>Wig7D8bw0nvsZ9mM6EGpSA</td>\n",
       "      <td>Sun Valley Express</td>\n",
       "      <td>6903 W Targee St</td>\n",
       "      <td>Boise</td>\n",
       "      <td>ID</td>\n",
       "      <td>83709</td>\n",
       "      <td>43.582506</td>\n",
       "      <td>-116.267858</td>\n",
       "      <td>3.0</td>\n",
       "      <td>8</td>\n",
       "      <td>1</td>\n",
       "      <td>{'WiFi': 'u'free''}</td>\n",
       "      <td>Public Transportation, Limos, Airport Shuttles...</td>\n",
       "      <td>{'Monday': '0:0-0:0', 'Tuesday': '8:0-15:30', ...</td>\n",
       "    </tr>\n",
       "    <tr>\n",
       "      <th>49998</th>\n",
       "      <td>_Hxa4-Dj0C4NqcJZ-J1_PA</td>\n",
       "      <td>Public Storage</td>\n",
       "      <td>6117 Charlotte Pike</td>\n",
       "      <td>Nashville</td>\n",
       "      <td>TN</td>\n",
       "      <td>37209</td>\n",
       "      <td>36.147023</td>\n",
       "      <td>-86.868538</td>\n",
       "      <td>4.0</td>\n",
       "      <td>8</td>\n",
       "      <td>1</td>\n",
       "      <td>{'BusinessAcceptsCreditCards': 'True'}</td>\n",
       "      <td>Self Storage, Local Services</td>\n",
       "      <td>{'Monday': '9:30-18:0', 'Tuesday': '9:30-18:0'...</td>\n",
       "    </tr>\n",
       "    <tr>\n",
       "      <th>49999</th>\n",
       "      <td>wKHS2tE5VMGiL6VWPAXESA</td>\n",
       "      <td>Goodland Jiu Jitsu</td>\n",
       "      <td>5140 Hollister Ave</td>\n",
       "      <td>Goleta</td>\n",
       "      <td>CA</td>\n",
       "      <td>93111</td>\n",
       "      <td>34.435834</td>\n",
       "      <td>-119.802921</td>\n",
       "      <td>4.5</td>\n",
       "      <td>8</td>\n",
       "      <td>1</td>\n",
       "      <td>{'GoodForKids': 'True', 'BusinessParking': '{'...</td>\n",
       "      <td>Brazilian Jiu-jitsu, Martial Arts, Active Life...</td>\n",
       "      <td>{'Monday': '6:30-20:0', 'Tuesday': '6:30-20:0'...</td>\n",
       "    </tr>\n",
       "  </tbody>\n",
       "</table>\n",
       "<p>50000 rows × 14 columns</p>\n",
       "</div>"
      ],
      "text/plain": [
       "                  business_id                        name  \\\n",
       "0      Pns2l4eNsfO8kk83dixA6A    Abby Rappoport, LAC, CMQ   \n",
       "1      mpf3x-BjTdTEA3yCZrAYPw               The UPS Store   \n",
       "2      tUFrWirKiKi_TAnsVWINQQ                      Target   \n",
       "3      MTSW4McQd7CbVtyjqoe9mw          St Honore Pastries   \n",
       "4      mWMc6_wTdE0EUBKIGXDVfA    Perkiomen Valley Brewery   \n",
       "...                       ...                         ...   \n",
       "49995  GAgosZDSlzC5WpGrb0ic4g   Perry Anthony Salon & Spa   \n",
       "49996  EUvjJe90Hxh6wznY9qEbsQ  Fantastic Sams Cut & Color   \n",
       "49997  Wig7D8bw0nvsZ9mM6EGpSA          Sun Valley Express   \n",
       "49998  _Hxa4-Dj0C4NqcJZ-J1_PA              Public Storage   \n",
       "49999  wKHS2tE5VMGiL6VWPAXESA          Goodland Jiu Jitsu   \n",
       "\n",
       "                               address           city state postal_code  \\\n",
       "0               1616 Chapala St, Ste 2  Santa Barbara    CA       93101   \n",
       "1      87 Grasso Plaza Shopping Center         Affton    MO       63123   \n",
       "2                 5255 E Broadway Blvd         Tucson    AZ       85711   \n",
       "3                          935 Race St   Philadelphia    PA       19107   \n",
       "4                        101 Walnut St     Green Lane    PA       18054   \n",
       "...                                ...            ...   ...         ...   \n",
       "49995                5331 Limestone Rd     Wilmington    DE       19808   \n",
       "49996                    3150 Tampa Rd        Oldsmar    FL       34677   \n",
       "49997                 6903 W Targee St          Boise    ID       83709   \n",
       "49998              6117 Charlotte Pike      Nashville    TN       37209   \n",
       "49999               5140 Hollister Ave         Goleta    CA       93111   \n",
       "\n",
       "        latitude   longitude  stars  review_count  is_open  \\\n",
       "0      34.426679 -119.711197    5.0             7        0   \n",
       "1      38.551126  -90.335695    3.0            15        1   \n",
       "2      32.223236 -110.880452    3.5            22        0   \n",
       "3      39.955505  -75.155564    4.0            80        1   \n",
       "4      40.338183  -75.471659    4.5            13        1   \n",
       "...          ...         ...    ...           ...      ...   \n",
       "49995  39.746909  -75.698912    4.0            17        1   \n",
       "49996  28.049983  -82.698013    3.5            12        1   \n",
       "49997  43.582506 -116.267858    3.0             8        1   \n",
       "49998  36.147023  -86.868538    4.0             8        1   \n",
       "49999  34.435834 -119.802921    4.5             8        1   \n",
       "\n",
       "                                              attributes  \\\n",
       "0                          {'ByAppointmentOnly': 'True'}   \n",
       "1                 {'BusinessAcceptsCreditCards': 'True'}   \n",
       "2      {'BikeParking': 'True', 'BusinessAcceptsCredit...   \n",
       "3      {'RestaurantsDelivery': 'False', 'OutdoorSeati...   \n",
       "4      {'BusinessAcceptsCreditCards': 'True', 'Wheelc...   \n",
       "...                                                  ...   \n",
       "49995  {'BusinessParking': '{'garage': False, 'street...   \n",
       "49996  {'GoodForKids': 'True', 'BikeParking': 'False'...   \n",
       "49997                                {'WiFi': 'u'free''}   \n",
       "49998             {'BusinessAcceptsCreditCards': 'True'}   \n",
       "49999  {'GoodForKids': 'True', 'BusinessParking': '{'...   \n",
       "\n",
       "                                              categories  \\\n",
       "0      Doctors, Traditional Chinese Medicine, Naturop...   \n",
       "1      Shipping Centers, Local Services, Notaries, Ma...   \n",
       "2      Department Stores, Shopping, Fashion, Home & G...   \n",
       "3      Restaurants, Food, Bubble Tea, Coffee & Tea, B...   \n",
       "4                              Brewpubs, Breweries, Food   \n",
       "...                                                  ...   \n",
       "49995  Beauty & Spas, Hair Salons, Fitness & Instruct...   \n",
       "49996  Hair Salons, Beauty & Spas, Hair Removal, Barbers   \n",
       "49997  Public Transportation, Limos, Airport Shuttles...   \n",
       "49998                       Self Storage, Local Services   \n",
       "49999  Brazilian Jiu-jitsu, Martial Arts, Active Life...   \n",
       "\n",
       "                                                   hours  \n",
       "0                                                   None  \n",
       "1      {'Monday': '0:0-0:0', 'Tuesday': '8:0-18:30', ...  \n",
       "2      {'Monday': '8:0-22:0', 'Tuesday': '8:0-22:0', ...  \n",
       "3      {'Monday': '7:0-20:0', 'Tuesday': '7:0-20:0', ...  \n",
       "4      {'Wednesday': '14:0-22:0', 'Thursday': '16:0-2...  \n",
       "...                                                  ...  \n",
       "49995  {'Monday': '9:30-20:0', 'Tuesday': '9:30-20:0'...  \n",
       "49996  {'Monday': '9:0-19:0', 'Tuesday': '9:0-19:0', ...  \n",
       "49997  {'Monday': '0:0-0:0', 'Tuesday': '8:0-15:30', ...  \n",
       "49998  {'Monday': '9:30-18:0', 'Tuesday': '9:30-18:0'...  \n",
       "49999  {'Monday': '6:30-20:0', 'Tuesday': '6:30-20:0'...  \n",
       "\n",
       "[50000 rows x 14 columns]"
      ]
     },
     "execution_count": 7,
     "metadata": {},
     "output_type": "execute_result"
    }
   ],
   "source": [
    "business = pd.read_json(r'C:\\Users\\bsati\\Downloads\\Yelp_dataset\\yelp_academic_dataset_business.json',lines=True,nrows=50000)\n",
    "business"
   ]
  },
  {
   "cell_type": "markdown",
   "id": "bc6e4676",
   "metadata": {},
   "source": [
    "* The dataset has 150346 rows and 14 columns."
   ]
  },
  {
   "cell_type": "markdown",
   "id": "e658b8bd",
   "metadata": {},
   "source": [
    "## Loading the review dataset\n"
   ]
  },
  {
   "cell_type": "code",
   "execution_count": 9,
   "id": "2d92cbd8",
   "metadata": {},
   "outputs": [],
   "source": [
    "reviews = pd.read_json(r\"C:\\Users\\bsati\\Downloads\\Yelp_dataset\\yelp_academic_dataset_review.json\",lines=True,nrows=50000)"
   ]
  },
  {
   "cell_type": "code",
   "execution_count": 10,
   "id": "26f5f467",
   "metadata": {},
   "outputs": [
    {
     "data": {
      "text/html": [
       "<div>\n",
       "<style scoped>\n",
       "    .dataframe tbody tr th:only-of-type {\n",
       "        vertical-align: middle;\n",
       "    }\n",
       "\n",
       "    .dataframe tbody tr th {\n",
       "        vertical-align: top;\n",
       "    }\n",
       "\n",
       "    .dataframe thead th {\n",
       "        text-align: right;\n",
       "    }\n",
       "</style>\n",
       "<table border=\"1\" class=\"dataframe\">\n",
       "  <thead>\n",
       "    <tr style=\"text-align: right;\">\n",
       "      <th></th>\n",
       "      <th>review_id</th>\n",
       "      <th>user_id</th>\n",
       "      <th>business_id</th>\n",
       "      <th>stars</th>\n",
       "      <th>useful</th>\n",
       "      <th>funny</th>\n",
       "      <th>cool</th>\n",
       "      <th>text</th>\n",
       "      <th>date</th>\n",
       "    </tr>\n",
       "  </thead>\n",
       "  <tbody>\n",
       "    <tr>\n",
       "      <th>0</th>\n",
       "      <td>KU_O5udG6zpxOg-VcAEodg</td>\n",
       "      <td>mh_-eMZ6K5RLWhZyISBhwA</td>\n",
       "      <td>XQfwVwDr-v0ZS3_CbbE5Xw</td>\n",
       "      <td>3</td>\n",
       "      <td>0</td>\n",
       "      <td>0</td>\n",
       "      <td>0</td>\n",
       "      <td>If you decide to eat here, just be aware it is...</td>\n",
       "      <td>2018-07-07 22:09:11</td>\n",
       "    </tr>\n",
       "    <tr>\n",
       "      <th>1</th>\n",
       "      <td>BiTunyQ73aT9WBnpR9DZGw</td>\n",
       "      <td>OyoGAe7OKpv6SyGZT5g77Q</td>\n",
       "      <td>7ATYjTIgM3jUlt4UM3IypQ</td>\n",
       "      <td>5</td>\n",
       "      <td>1</td>\n",
       "      <td>0</td>\n",
       "      <td>1</td>\n",
       "      <td>I've taken a lot of spin classes over the year...</td>\n",
       "      <td>2012-01-03 15:28:18</td>\n",
       "    </tr>\n",
       "    <tr>\n",
       "      <th>2</th>\n",
       "      <td>saUsX_uimxRlCVr67Z4Jig</td>\n",
       "      <td>8g_iMtfSiwikVnbP2etR0A</td>\n",
       "      <td>YjUWPpI6HXG530lwP-fb2A</td>\n",
       "      <td>3</td>\n",
       "      <td>0</td>\n",
       "      <td>0</td>\n",
       "      <td>0</td>\n",
       "      <td>Family diner. Had the buffet. Eclectic assortm...</td>\n",
       "      <td>2014-02-05 20:30:30</td>\n",
       "    </tr>\n",
       "    <tr>\n",
       "      <th>3</th>\n",
       "      <td>AqPFMleE6RsU23_auESxiA</td>\n",
       "      <td>_7bHUi9Uuf5__HHc_Q8guQ</td>\n",
       "      <td>kxX2SOes4o-D3ZQBkiMRfA</td>\n",
       "      <td>5</td>\n",
       "      <td>1</td>\n",
       "      <td>0</td>\n",
       "      <td>1</td>\n",
       "      <td>Wow!  Yummy, different,  delicious.   Our favo...</td>\n",
       "      <td>2015-01-04 00:01:03</td>\n",
       "    </tr>\n",
       "    <tr>\n",
       "      <th>4</th>\n",
       "      <td>Sx8TMOWLNuJBWer-0pcmoA</td>\n",
       "      <td>bcjbaE6dDog4jkNY91ncLQ</td>\n",
       "      <td>e4Vwtrqf-wpJfwesgvdgxQ</td>\n",
       "      <td>4</td>\n",
       "      <td>1</td>\n",
       "      <td>0</td>\n",
       "      <td>1</td>\n",
       "      <td>Cute interior and owner (?) gave us tour of up...</td>\n",
       "      <td>2017-01-14 20:54:15</td>\n",
       "    </tr>\n",
       "    <tr>\n",
       "      <th>...</th>\n",
       "      <td>...</td>\n",
       "      <td>...</td>\n",
       "      <td>...</td>\n",
       "      <td>...</td>\n",
       "      <td>...</td>\n",
       "      <td>...</td>\n",
       "      <td>...</td>\n",
       "      <td>...</td>\n",
       "      <td>...</td>\n",
       "    </tr>\n",
       "    <tr>\n",
       "      <th>49995</th>\n",
       "      <td>V_bNx4GEH8ChNNA0GPMrOA</td>\n",
       "      <td>_-x9v81zddshIEwRirV7kQ</td>\n",
       "      <td>GBTPC53ZrG1ZBY3DT8Mbcw</td>\n",
       "      <td>4</td>\n",
       "      <td>0</td>\n",
       "      <td>0</td>\n",
       "      <td>0</td>\n",
       "      <td>Came here first for breakfast and had their yu...</td>\n",
       "      <td>2016-10-29 00:54:49</td>\n",
       "    </tr>\n",
       "    <tr>\n",
       "      <th>49996</th>\n",
       "      <td>5beIdB00qToFzllb4alZNQ</td>\n",
       "      <td>VEOTasfs8zYs7grZ4C5Xfw</td>\n",
       "      <td>EQ-TZ2eeD_E0BHuvoaeG5Q</td>\n",
       "      <td>2</td>\n",
       "      <td>0</td>\n",
       "      <td>0</td>\n",
       "      <td>0</td>\n",
       "      <td>Food was good. I had a decent breakfast but no...</td>\n",
       "      <td>2017-08-09 13:12:33</td>\n",
       "    </tr>\n",
       "    <tr>\n",
       "      <th>49997</th>\n",
       "      <td>rjFWnq1zQTRzCyqV0jzZHw</td>\n",
       "      <td>AT_p7NkLqd50ugp3wjFg2Q</td>\n",
       "      <td>_RFqyBgklIBqOAM-zzV_WQ</td>\n",
       "      <td>3</td>\n",
       "      <td>0</td>\n",
       "      <td>1</td>\n",
       "      <td>0</td>\n",
       "      <td>It's cool that Second Image is trying. They so...</td>\n",
       "      <td>2010-07-11 21:41:35</td>\n",
       "    </tr>\n",
       "    <tr>\n",
       "      <th>49998</th>\n",
       "      <td>8LRFPHiso_kuCseg5BJx8A</td>\n",
       "      <td>NSCNU_j0vSdeRMIme3H0rg</td>\n",
       "      <td>8agPzX-O-8LEDjDNloSdzQ</td>\n",
       "      <td>4</td>\n",
       "      <td>1</td>\n",
       "      <td>0</td>\n",
       "      <td>1</td>\n",
       "      <td>Best shrimp on the beach!  Steamed to order, d...</td>\n",
       "      <td>2017-04-09 23:23:56</td>\n",
       "    </tr>\n",
       "    <tr>\n",
       "      <th>49999</th>\n",
       "      <td>5C6u-caMG39RkvDuAYSVew</td>\n",
       "      <td>TnLZ2QkrO9WpzDLLORvJtQ</td>\n",
       "      <td>M0c99tzIJPIbrY_RAO7KSQ</td>\n",
       "      <td>4</td>\n",
       "      <td>0</td>\n",
       "      <td>0</td>\n",
       "      <td>0</td>\n",
       "      <td>The hotel is very nice and clean, and looks fa...</td>\n",
       "      <td>2016-08-06 02:17:10</td>\n",
       "    </tr>\n",
       "  </tbody>\n",
       "</table>\n",
       "<p>50000 rows × 9 columns</p>\n",
       "</div>"
      ],
      "text/plain": [
       "                    review_id                 user_id             business_id  \\\n",
       "0      KU_O5udG6zpxOg-VcAEodg  mh_-eMZ6K5RLWhZyISBhwA  XQfwVwDr-v0ZS3_CbbE5Xw   \n",
       "1      BiTunyQ73aT9WBnpR9DZGw  OyoGAe7OKpv6SyGZT5g77Q  7ATYjTIgM3jUlt4UM3IypQ   \n",
       "2      saUsX_uimxRlCVr67Z4Jig  8g_iMtfSiwikVnbP2etR0A  YjUWPpI6HXG530lwP-fb2A   \n",
       "3      AqPFMleE6RsU23_auESxiA  _7bHUi9Uuf5__HHc_Q8guQ  kxX2SOes4o-D3ZQBkiMRfA   \n",
       "4      Sx8TMOWLNuJBWer-0pcmoA  bcjbaE6dDog4jkNY91ncLQ  e4Vwtrqf-wpJfwesgvdgxQ   \n",
       "...                       ...                     ...                     ...   \n",
       "49995  V_bNx4GEH8ChNNA0GPMrOA  _-x9v81zddshIEwRirV7kQ  GBTPC53ZrG1ZBY3DT8Mbcw   \n",
       "49996  5beIdB00qToFzllb4alZNQ  VEOTasfs8zYs7grZ4C5Xfw  EQ-TZ2eeD_E0BHuvoaeG5Q   \n",
       "49997  rjFWnq1zQTRzCyqV0jzZHw  AT_p7NkLqd50ugp3wjFg2Q  _RFqyBgklIBqOAM-zzV_WQ   \n",
       "49998  8LRFPHiso_kuCseg5BJx8A  NSCNU_j0vSdeRMIme3H0rg  8agPzX-O-8LEDjDNloSdzQ   \n",
       "49999  5C6u-caMG39RkvDuAYSVew  TnLZ2QkrO9WpzDLLORvJtQ  M0c99tzIJPIbrY_RAO7KSQ   \n",
       "\n",
       "       stars  useful  funny  cool  \\\n",
       "0          3       0      0     0   \n",
       "1          5       1      0     1   \n",
       "2          3       0      0     0   \n",
       "3          5       1      0     1   \n",
       "4          4       1      0     1   \n",
       "...      ...     ...    ...   ...   \n",
       "49995      4       0      0     0   \n",
       "49996      2       0      0     0   \n",
       "49997      3       0      1     0   \n",
       "49998      4       1      0     1   \n",
       "49999      4       0      0     0   \n",
       "\n",
       "                                                    text                date  \n",
       "0      If you decide to eat here, just be aware it is... 2018-07-07 22:09:11  \n",
       "1      I've taken a lot of spin classes over the year... 2012-01-03 15:28:18  \n",
       "2      Family diner. Had the buffet. Eclectic assortm... 2014-02-05 20:30:30  \n",
       "3      Wow!  Yummy, different,  delicious.   Our favo... 2015-01-04 00:01:03  \n",
       "4      Cute interior and owner (?) gave us tour of up... 2017-01-14 20:54:15  \n",
       "...                                                  ...                 ...  \n",
       "49995  Came here first for breakfast and had their yu... 2016-10-29 00:54:49  \n",
       "49996  Food was good. I had a decent breakfast but no... 2017-08-09 13:12:33  \n",
       "49997  It's cool that Second Image is trying. They so... 2010-07-11 21:41:35  \n",
       "49998  Best shrimp on the beach!  Steamed to order, d... 2017-04-09 23:23:56  \n",
       "49999  The hotel is very nice and clean, and looks fa... 2016-08-06 02:17:10  \n",
       "\n",
       "[50000 rows x 9 columns]"
      ]
     },
     "execution_count": 10,
     "metadata": {},
     "output_type": "execute_result"
    }
   ],
   "source": [
    "reviews"
   ]
  },
  {
   "cell_type": "markdown",
   "id": "ebe2015c",
   "metadata": {},
   "source": [
    "### Filtering the Restaurant data from the dataset"
   ]
  },
  {
   "cell_type": "code",
   "execution_count": 12,
   "id": "d33f9b5c",
   "metadata": {},
   "outputs": [
    {
     "data": {
      "text/html": [
       "<div>\n",
       "<style scoped>\n",
       "    .dataframe tbody tr th:only-of-type {\n",
       "        vertical-align: middle;\n",
       "    }\n",
       "\n",
       "    .dataframe tbody tr th {\n",
       "        vertical-align: top;\n",
       "    }\n",
       "\n",
       "    .dataframe thead th {\n",
       "        text-align: right;\n",
       "    }\n",
       "</style>\n",
       "<table border=\"1\" class=\"dataframe\">\n",
       "  <thead>\n",
       "    <tr style=\"text-align: right;\">\n",
       "      <th></th>\n",
       "      <th>business_id</th>\n",
       "      <th>name</th>\n",
       "      <th>address</th>\n",
       "      <th>city</th>\n",
       "      <th>state</th>\n",
       "      <th>postal_code</th>\n",
       "      <th>latitude</th>\n",
       "      <th>longitude</th>\n",
       "      <th>stars</th>\n",
       "      <th>review_count</th>\n",
       "      <th>is_open</th>\n",
       "      <th>attributes</th>\n",
       "      <th>categories</th>\n",
       "      <th>hours</th>\n",
       "    </tr>\n",
       "  </thead>\n",
       "  <tbody>\n",
       "    <tr>\n",
       "      <th>3</th>\n",
       "      <td>MTSW4McQd7CbVtyjqoe9mw</td>\n",
       "      <td>St Honore Pastries</td>\n",
       "      <td>935 Race St</td>\n",
       "      <td>Philadelphia</td>\n",
       "      <td>PA</td>\n",
       "      <td>19107</td>\n",
       "      <td>39.955505</td>\n",
       "      <td>-75.155564</td>\n",
       "      <td>4.0</td>\n",
       "      <td>80</td>\n",
       "      <td>1</td>\n",
       "      <td>{'RestaurantsDelivery': 'False', 'OutdoorSeati...</td>\n",
       "      <td>Restaurants, Food, Bubble Tea, Coffee &amp; Tea, B...</td>\n",
       "      <td>{'Monday': '7:0-20:0', 'Tuesday': '7:0-20:0', ...</td>\n",
       "    </tr>\n",
       "    <tr>\n",
       "      <th>5</th>\n",
       "      <td>CF33F8-E6oudUQ46HnavjQ</td>\n",
       "      <td>Sonic Drive-In</td>\n",
       "      <td>615 S Main St</td>\n",
       "      <td>Ashland City</td>\n",
       "      <td>TN</td>\n",
       "      <td>37015</td>\n",
       "      <td>36.269593</td>\n",
       "      <td>-87.058943</td>\n",
       "      <td>2.0</td>\n",
       "      <td>6</td>\n",
       "      <td>1</td>\n",
       "      <td>{'BusinessParking': 'None', 'BusinessAcceptsCr...</td>\n",
       "      <td>Burgers, Fast Food, Sandwiches, Food, Ice Crea...</td>\n",
       "      <td>{'Monday': '0:0-0:0', 'Tuesday': '6:0-22:0', '...</td>\n",
       "    </tr>\n",
       "    <tr>\n",
       "      <th>8</th>\n",
       "      <td>k0hlBqXX-Bt0vf1op7Jr1w</td>\n",
       "      <td>Tsevi's Pub And Grill</td>\n",
       "      <td>8025 Mackenzie Rd</td>\n",
       "      <td>Affton</td>\n",
       "      <td>MO</td>\n",
       "      <td>63123</td>\n",
       "      <td>38.565165</td>\n",
       "      <td>-90.321087</td>\n",
       "      <td>3.0</td>\n",
       "      <td>19</td>\n",
       "      <td>0</td>\n",
       "      <td>{'Caters': 'True', 'Alcohol': 'u'full_bar'', '...</td>\n",
       "      <td>Pubs, Restaurants, Italian, Bars, American (Tr...</td>\n",
       "      <td>None</td>\n",
       "    </tr>\n",
       "    <tr>\n",
       "      <th>9</th>\n",
       "      <td>bBDDEgkFA1Otx9Lfe7BZUQ</td>\n",
       "      <td>Sonic Drive-In</td>\n",
       "      <td>2312 Dickerson Pike</td>\n",
       "      <td>Nashville</td>\n",
       "      <td>TN</td>\n",
       "      <td>37207</td>\n",
       "      <td>36.208102</td>\n",
       "      <td>-86.768170</td>\n",
       "      <td>1.5</td>\n",
       "      <td>10</td>\n",
       "      <td>1</td>\n",
       "      <td>{'RestaurantsAttire': ''casual'', 'Restaurants...</td>\n",
       "      <td>Ice Cream &amp; Frozen Yogurt, Fast Food, Burgers,...</td>\n",
       "      <td>{'Monday': '0:0-0:0', 'Tuesday': '6:0-21:0', '...</td>\n",
       "    </tr>\n",
       "    <tr>\n",
       "      <th>11</th>\n",
       "      <td>eEOYSgkmpB90uNA7lDOMRA</td>\n",
       "      <td>Vietnamese Food Truck</td>\n",
       "      <td></td>\n",
       "      <td>Tampa Bay</td>\n",
       "      <td>FL</td>\n",
       "      <td>33602</td>\n",
       "      <td>27.955269</td>\n",
       "      <td>-82.456320</td>\n",
       "      <td>4.0</td>\n",
       "      <td>10</td>\n",
       "      <td>1</td>\n",
       "      <td>{'Alcohol': ''none'', 'OutdoorSeating': 'None'...</td>\n",
       "      <td>Vietnamese, Food, Restaurants, Food Trucks</td>\n",
       "      <td>{'Monday': '11:0-14:0', 'Tuesday': '11:0-14:0'...</td>\n",
       "    </tr>\n",
       "    <tr>\n",
       "      <th>...</th>\n",
       "      <td>...</td>\n",
       "      <td>...</td>\n",
       "      <td>...</td>\n",
       "      <td>...</td>\n",
       "      <td>...</td>\n",
       "      <td>...</td>\n",
       "      <td>...</td>\n",
       "      <td>...</td>\n",
       "      <td>...</td>\n",
       "      <td>...</td>\n",
       "      <td>...</td>\n",
       "      <td>...</td>\n",
       "      <td>...</td>\n",
       "      <td>...</td>\n",
       "    </tr>\n",
       "    <tr>\n",
       "      <th>49974</th>\n",
       "      <td>C_MrreF_COn_48YeoDhRWg</td>\n",
       "      <td>Whisky Lounge</td>\n",
       "      <td>711 S Virginia St</td>\n",
       "      <td>Reno</td>\n",
       "      <td>NV</td>\n",
       "      <td>89501</td>\n",
       "      <td>39.518110</td>\n",
       "      <td>-119.809386</td>\n",
       "      <td>4.5</td>\n",
       "      <td>80</td>\n",
       "      <td>1</td>\n",
       "      <td>{'NoiseLevel': 'u'average'', 'RestaurantsPrice...</td>\n",
       "      <td>German, Cocktail Bars, Restaurants, Whiskey Ba...</td>\n",
       "      <td>{'Monday': '17:0-0:0', 'Tuesday': '17:0-0:0', ...</td>\n",
       "    </tr>\n",
       "    <tr>\n",
       "      <th>49982</th>\n",
       "      <td>vbA_gS6GPzwMOx0TRoh-MA</td>\n",
       "      <td>Del Taco</td>\n",
       "      <td>5890 S Virginia St</td>\n",
       "      <td>Reno</td>\n",
       "      <td>NV</td>\n",
       "      <td>89502</td>\n",
       "      <td>39.472652</td>\n",
       "      <td>-119.786368</td>\n",
       "      <td>3.0</td>\n",
       "      <td>42</td>\n",
       "      <td>1</td>\n",
       "      <td>{'BikeParking': 'True', 'GoodForKids': 'True',...</td>\n",
       "      <td>Restaurants, Fast Food, Mexican</td>\n",
       "      <td>{'Monday': '7:0-0:0', 'Tuesday': '7:0-0:0', 'W...</td>\n",
       "    </tr>\n",
       "    <tr>\n",
       "      <th>49987</th>\n",
       "      <td>5iziuvhlOhqH4dzvc-iDNA</td>\n",
       "      <td>Capri</td>\n",
       "      <td>2602 Ruth Dr</td>\n",
       "      <td>Indianapolis</td>\n",
       "      <td>IN</td>\n",
       "      <td>46240</td>\n",
       "      <td>39.890089</td>\n",
       "      <td>-86.119965</td>\n",
       "      <td>4.5</td>\n",
       "      <td>200</td>\n",
       "      <td>1</td>\n",
       "      <td>{'RestaurantsGoodForGroups': 'True', 'HasTV': ...</td>\n",
       "      <td>Restaurants, Italian</td>\n",
       "      <td>{'Monday': '16:0-22:0', 'Tuesday': '16:0-22:0'...</td>\n",
       "    </tr>\n",
       "    <tr>\n",
       "      <th>49988</th>\n",
       "      <td>83KdaW9JNrCnlaNl_u7NiA</td>\n",
       "      <td>Fuji Fine Japanese Cuisine</td>\n",
       "      <td>1210 Bethlehem Pike</td>\n",
       "      <td>North Wales</td>\n",
       "      <td>PA</td>\n",
       "      <td>19454</td>\n",
       "      <td>40.208415</td>\n",
       "      <td>-75.225987</td>\n",
       "      <td>3.5</td>\n",
       "      <td>57</td>\n",
       "      <td>0</td>\n",
       "      <td>{'Caters': 'False', 'RestaurantsDelivery': 'Fa...</td>\n",
       "      <td>Ramen, Teppanyaki, Japanese, Restaurants, Sush...</td>\n",
       "      <td>{'Monday': '11:30-22:0', 'Tuesday': '11:30-22:...</td>\n",
       "    </tr>\n",
       "    <tr>\n",
       "      <th>49993</th>\n",
       "      <td>qNQkV4joTSqFRWZBRLfSoQ</td>\n",
       "      <td>Asian Chao</td>\n",
       "      <td>2300 Grand Cypress Dr</td>\n",
       "      <td>Lutz</td>\n",
       "      <td>FL</td>\n",
       "      <td>33559</td>\n",
       "      <td>28.190847</td>\n",
       "      <td>-82.390642</td>\n",
       "      <td>3.0</td>\n",
       "      <td>12</td>\n",
       "      <td>1</td>\n",
       "      <td>{'GoodForMeal': '{'dessert': False, 'latenight...</td>\n",
       "      <td>Asian Fusion, Restaurants</td>\n",
       "      <td>None</td>\n",
       "    </tr>\n",
       "  </tbody>\n",
       "</table>\n",
       "<p>17318 rows × 14 columns</p>\n",
       "</div>"
      ],
      "text/plain": [
       "                  business_id                        name  \\\n",
       "3      MTSW4McQd7CbVtyjqoe9mw          St Honore Pastries   \n",
       "5      CF33F8-E6oudUQ46HnavjQ              Sonic Drive-In   \n",
       "8      k0hlBqXX-Bt0vf1op7Jr1w       Tsevi's Pub And Grill   \n",
       "9      bBDDEgkFA1Otx9Lfe7BZUQ              Sonic Drive-In   \n",
       "11     eEOYSgkmpB90uNA7lDOMRA       Vietnamese Food Truck   \n",
       "...                       ...                         ...   \n",
       "49974  C_MrreF_COn_48YeoDhRWg               Whisky Lounge   \n",
       "49982  vbA_gS6GPzwMOx0TRoh-MA                    Del Taco   \n",
       "49987  5iziuvhlOhqH4dzvc-iDNA                       Capri   \n",
       "49988  83KdaW9JNrCnlaNl_u7NiA  Fuji Fine Japanese Cuisine   \n",
       "49993  qNQkV4joTSqFRWZBRLfSoQ                  Asian Chao   \n",
       "\n",
       "                     address          city state postal_code   latitude  \\\n",
       "3                935 Race St  Philadelphia    PA       19107  39.955505   \n",
       "5              615 S Main St  Ashland City    TN       37015  36.269593   \n",
       "8          8025 Mackenzie Rd        Affton    MO       63123  38.565165   \n",
       "9        2312 Dickerson Pike     Nashville    TN       37207  36.208102   \n",
       "11                               Tampa Bay    FL       33602  27.955269   \n",
       "...                      ...           ...   ...         ...        ...   \n",
       "49974      711 S Virginia St          Reno    NV       89501  39.518110   \n",
       "49982     5890 S Virginia St          Reno    NV       89502  39.472652   \n",
       "49987           2602 Ruth Dr  Indianapolis    IN       46240  39.890089   \n",
       "49988    1210 Bethlehem Pike   North Wales    PA       19454  40.208415   \n",
       "49993  2300 Grand Cypress Dr          Lutz    FL       33559  28.190847   \n",
       "\n",
       "        longitude  stars  review_count  is_open  \\\n",
       "3      -75.155564    4.0            80        1   \n",
       "5      -87.058943    2.0             6        1   \n",
       "8      -90.321087    3.0            19        0   \n",
       "9      -86.768170    1.5            10        1   \n",
       "11     -82.456320    4.0            10        1   \n",
       "...           ...    ...           ...      ...   \n",
       "49974 -119.809386    4.5            80        1   \n",
       "49982 -119.786368    3.0            42        1   \n",
       "49987  -86.119965    4.5           200        1   \n",
       "49988  -75.225987    3.5            57        0   \n",
       "49993  -82.390642    3.0            12        1   \n",
       "\n",
       "                                              attributes  \\\n",
       "3      {'RestaurantsDelivery': 'False', 'OutdoorSeati...   \n",
       "5      {'BusinessParking': 'None', 'BusinessAcceptsCr...   \n",
       "8      {'Caters': 'True', 'Alcohol': 'u'full_bar'', '...   \n",
       "9      {'RestaurantsAttire': ''casual'', 'Restaurants...   \n",
       "11     {'Alcohol': ''none'', 'OutdoorSeating': 'None'...   \n",
       "...                                                  ...   \n",
       "49974  {'NoiseLevel': 'u'average'', 'RestaurantsPrice...   \n",
       "49982  {'BikeParking': 'True', 'GoodForKids': 'True',...   \n",
       "49987  {'RestaurantsGoodForGroups': 'True', 'HasTV': ...   \n",
       "49988  {'Caters': 'False', 'RestaurantsDelivery': 'Fa...   \n",
       "49993  {'GoodForMeal': '{'dessert': False, 'latenight...   \n",
       "\n",
       "                                              categories  \\\n",
       "3      Restaurants, Food, Bubble Tea, Coffee & Tea, B...   \n",
       "5      Burgers, Fast Food, Sandwiches, Food, Ice Crea...   \n",
       "8      Pubs, Restaurants, Italian, Bars, American (Tr...   \n",
       "9      Ice Cream & Frozen Yogurt, Fast Food, Burgers,...   \n",
       "11            Vietnamese, Food, Restaurants, Food Trucks   \n",
       "...                                                  ...   \n",
       "49974  German, Cocktail Bars, Restaurants, Whiskey Ba...   \n",
       "49982                    Restaurants, Fast Food, Mexican   \n",
       "49987                               Restaurants, Italian   \n",
       "49988  Ramen, Teppanyaki, Japanese, Restaurants, Sush...   \n",
       "49993                          Asian Fusion, Restaurants   \n",
       "\n",
       "                                                   hours  \n",
       "3      {'Monday': '7:0-20:0', 'Tuesday': '7:0-20:0', ...  \n",
       "5      {'Monday': '0:0-0:0', 'Tuesday': '6:0-22:0', '...  \n",
       "8                                                   None  \n",
       "9      {'Monday': '0:0-0:0', 'Tuesday': '6:0-21:0', '...  \n",
       "11     {'Monday': '11:0-14:0', 'Tuesday': '11:0-14:0'...  \n",
       "...                                                  ...  \n",
       "49974  {'Monday': '17:0-0:0', 'Tuesday': '17:0-0:0', ...  \n",
       "49982  {'Monday': '7:0-0:0', 'Tuesday': '7:0-0:0', 'W...  \n",
       "49987  {'Monday': '16:0-22:0', 'Tuesday': '16:0-22:0'...  \n",
       "49988  {'Monday': '11:30-22:0', 'Tuesday': '11:30-22:...  \n",
       "49993                                               None  \n",
       "\n",
       "[17318 rows x 14 columns]"
      ]
     },
     "execution_count": 12,
     "metadata": {},
     "output_type": "execute_result"
    }
   ],
   "source": [
    "restaurants = business[business.categories.fillna('-').str.lower().str.contains('restaurant')]\n",
    "restaurants"
   ]
  },
  {
   "cell_type": "code",
   "execution_count": 20,
   "id": "f3e0a3fd",
   "metadata": {},
   "outputs": [],
   "source": [
    "# Calculate the mean rating for each company\n",
    "company_rating = restaurants.groupby(['name']).stars.mean()\n",
    "\n",
    "# Calculate the total review count for each company\n",
    "company_review_count = restaurants.groupby(['name']).review_count.sum()\n",
    "\n",
    "# Calculate the number of unique cities for each company\n",
    "company_city_count = restaurants.groupby(['name']).city.nunique()\n",
    "\n",
    "# Concatenate the three series together into a DataFrame\n",
    "result = pd.concat([company_review_count, company_rating, company_city_count], axis=1, join='inner')\n",
    "\n",
    "# Sort the DataFrame by the 'city' column in descending order and take the top 10 rows\n",
    "top_10_companies = result.sort_values(by='city', ascending=False).head(10)\n"
   ]
  },
  {
   "cell_type": "code",
   "execution_count": 24,
   "id": "638f5156",
   "metadata": {},
   "outputs": [
    {
     "data": {
      "text/html": [
       "<div>\n",
       "<style scoped>\n",
       "    .dataframe tbody tr th:only-of-type {\n",
       "        vertical-align: middle;\n",
       "    }\n",
       "\n",
       "    .dataframe tbody tr th {\n",
       "        vertical-align: top;\n",
       "    }\n",
       "\n",
       "    .dataframe thead th {\n",
       "        text-align: right;\n",
       "    }\n",
       "</style>\n",
       "<table border=\"1\" class=\"dataframe\">\n",
       "  <thead>\n",
       "    <tr style=\"text-align: right;\">\n",
       "      <th></th>\n",
       "      <th>review_count</th>\n",
       "      <th>stars</th>\n",
       "      <th>city</th>\n",
       "    </tr>\n",
       "    <tr>\n",
       "      <th>name</th>\n",
       "      <th></th>\n",
       "      <th></th>\n",
       "      <th></th>\n",
       "    </tr>\n",
       "  </thead>\n",
       "  <tbody>\n",
       "    <tr>\n",
       "      <th>McDonald's</th>\n",
       "      <td>5918</td>\n",
       "      <td>1.812775</td>\n",
       "      <td>126</td>\n",
       "    </tr>\n",
       "    <tr>\n",
       "      <th>Wawa</th>\n",
       "      <td>1516</td>\n",
       "      <td>3.313636</td>\n",
       "      <td>81</td>\n",
       "    </tr>\n",
       "    <tr>\n",
       "      <th>Subway</th>\n",
       "      <td>1401</td>\n",
       "      <td>2.623418</td>\n",
       "      <td>75</td>\n",
       "    </tr>\n",
       "    <tr>\n",
       "      <th>Domino's Pizza</th>\n",
       "      <td>1829</td>\n",
       "      <td>2.372340</td>\n",
       "      <td>73</td>\n",
       "    </tr>\n",
       "    <tr>\n",
       "      <th>Taco Bell</th>\n",
       "      <td>2731</td>\n",
       "      <td>2.122951</td>\n",
       "      <td>70</td>\n",
       "    </tr>\n",
       "    <tr>\n",
       "      <th>Pizza Hut</th>\n",
       "      <td>1751</td>\n",
       "      <td>1.968085</td>\n",
       "      <td>65</td>\n",
       "    </tr>\n",
       "    <tr>\n",
       "      <th>Burger King</th>\n",
       "      <td>1510</td>\n",
       "      <td>2.005208</td>\n",
       "      <td>62</td>\n",
       "    </tr>\n",
       "    <tr>\n",
       "      <th>Wendy's</th>\n",
       "      <td>1886</td>\n",
       "      <td>1.989474</td>\n",
       "      <td>61</td>\n",
       "    </tr>\n",
       "    <tr>\n",
       "      <th>Papa John's Pizza</th>\n",
       "      <td>997</td>\n",
       "      <td>2.405797</td>\n",
       "      <td>46</td>\n",
       "    </tr>\n",
       "    <tr>\n",
       "      <th>Chipotle Mexican Grill</th>\n",
       "      <td>3548</td>\n",
       "      <td>2.527273</td>\n",
       "      <td>41</td>\n",
       "    </tr>\n",
       "  </tbody>\n",
       "</table>\n",
       "</div>"
      ],
      "text/plain": [
       "                        review_count     stars  city\n",
       "name                                                \n",
       "McDonald's                      5918  1.812775   126\n",
       "Wawa                            1516  3.313636    81\n",
       "Subway                          1401  2.623418    75\n",
       "Domino's Pizza                  1829  2.372340    73\n",
       "Taco Bell                       2731  2.122951    70\n",
       "Pizza Hut                       1751  1.968085    65\n",
       "Burger King                     1510  2.005208    62\n",
       "Wendy's                         1886  1.989474    61\n",
       "Papa John's Pizza                997  2.405797    46\n",
       "Chipotle Mexican Grill          3548  2.527273    41"
      ]
     },
     "execution_count": 24,
     "metadata": {},
     "output_type": "execute_result"
    }
   ],
   "source": [
    "top_10_companies"
   ]
  },
  {
   "cell_type": "code",
   "execution_count": 23,
   "id": "311803a0",
   "metadata": {},
   "outputs": [],
   "source": [
    "# Filter the 'businesses' DataFrame to select rows where the name is \"McDonald's\"\n",
    "mcdonalds = restaurants.loc[restaurants['name'] == \"McDonald's\"]\n",
    "\n",
    "# Select specific columns ('name', 'business_id', 'review_count', 'stars') from the 'mcdonalds' DataFrame\n",
    "mcdonalds_selected = mcdonalds[['name', 'business_id', 'review_count', 'stars']]\n",
    "\n",
    "# Sort the 'mcdonalds_selected' DataFrame by 'review_count' and 'stars' columns in descending order\n",
    "sorted_mcdonalds = mcdonalds_selected.sort_values(by=['review_count', 'stars'], ascending=[False, False])\n"
   ]
  },
  {
   "cell_type": "code",
   "execution_count": 25,
   "id": "91f516c6",
   "metadata": {},
   "outputs": [
    {
     "data": {
      "text/html": [
       "<div>\n",
       "<style scoped>\n",
       "    .dataframe tbody tr th:only-of-type {\n",
       "        vertical-align: middle;\n",
       "    }\n",
       "\n",
       "    .dataframe tbody tr th {\n",
       "        vertical-align: top;\n",
       "    }\n",
       "\n",
       "    .dataframe thead th {\n",
       "        text-align: right;\n",
       "    }\n",
       "</style>\n",
       "<table border=\"1\" class=\"dataframe\">\n",
       "  <thead>\n",
       "    <tr style=\"text-align: right;\">\n",
       "      <th></th>\n",
       "      <th>name</th>\n",
       "      <th>business_id</th>\n",
       "      <th>review_count</th>\n",
       "      <th>stars</th>\n",
       "    </tr>\n",
       "  </thead>\n",
       "  <tbody>\n",
       "    <tr>\n",
       "      <th>45077</th>\n",
       "      <td>McDonald's</td>\n",
       "      <td>lA5BOb5Om5cn_dfwiOgbNg</td>\n",
       "      <td>111</td>\n",
       "      <td>1.5</td>\n",
       "    </tr>\n",
       "    <tr>\n",
       "      <th>193</th>\n",
       "      <td>McDonald's</td>\n",
       "      <td>yM8LlTInbQH4FwWC97lz6w</td>\n",
       "      <td>100</td>\n",
       "      <td>1.5</td>\n",
       "    </tr>\n",
       "    <tr>\n",
       "      <th>41491</th>\n",
       "      <td>McDonald's</td>\n",
       "      <td>uWLFplSCk3lI9rf84ZDwUw</td>\n",
       "      <td>90</td>\n",
       "      <td>1.0</td>\n",
       "    </tr>\n",
       "    <tr>\n",
       "      <th>3057</th>\n",
       "      <td>McDonald's</td>\n",
       "      <td>7YiLEuHuUONZrMPT0OxXUQ</td>\n",
       "      <td>89</td>\n",
       "      <td>1.5</td>\n",
       "    </tr>\n",
       "    <tr>\n",
       "      <th>28890</th>\n",
       "      <td>McDonald's</td>\n",
       "      <td>UBj0aJ6FfMR4tdvRbQ3KSA</td>\n",
       "      <td>89</td>\n",
       "      <td>1.5</td>\n",
       "    </tr>\n",
       "    <tr>\n",
       "      <th>...</th>\n",
       "      <td>...</td>\n",
       "      <td>...</td>\n",
       "      <td>...</td>\n",
       "      <td>...</td>\n",
       "    </tr>\n",
       "    <tr>\n",
       "      <th>46867</th>\n",
       "      <td>McDonald's</td>\n",
       "      <td>OAT5j2W8F5ypj0eDGH22Xg</td>\n",
       "      <td>6</td>\n",
       "      <td>1.5</td>\n",
       "    </tr>\n",
       "    <tr>\n",
       "      <th>14967</th>\n",
       "      <td>McDonald's</td>\n",
       "      <td>d3v51cMiLdNvn0GevIQDeg</td>\n",
       "      <td>5</td>\n",
       "      <td>3.0</td>\n",
       "    </tr>\n",
       "    <tr>\n",
       "      <th>25585</th>\n",
       "      <td>McDonald's</td>\n",
       "      <td>M99ZH5s10gditCQZCJfCMQ</td>\n",
       "      <td>5</td>\n",
       "      <td>2.5</td>\n",
       "    </tr>\n",
       "    <tr>\n",
       "      <th>17036</th>\n",
       "      <td>McDonald's</td>\n",
       "      <td>k52dmNDRnhwpwEju7LI-fg</td>\n",
       "      <td>5</td>\n",
       "      <td>2.0</td>\n",
       "    </tr>\n",
       "    <tr>\n",
       "      <th>20344</th>\n",
       "      <td>McDonald's</td>\n",
       "      <td>2s1e-4t_35JfQBXAluqqzg</td>\n",
       "      <td>5</td>\n",
       "      <td>1.0</td>\n",
       "    </tr>\n",
       "  </tbody>\n",
       "</table>\n",
       "<p>227 rows × 4 columns</p>\n",
       "</div>"
      ],
      "text/plain": [
       "             name             business_id  review_count  stars\n",
       "45077  McDonald's  lA5BOb5Om5cn_dfwiOgbNg           111    1.5\n",
       "193    McDonald's  yM8LlTInbQH4FwWC97lz6w           100    1.5\n",
       "41491  McDonald's  uWLFplSCk3lI9rf84ZDwUw            90    1.0\n",
       "3057   McDonald's  7YiLEuHuUONZrMPT0OxXUQ            89    1.5\n",
       "28890  McDonald's  UBj0aJ6FfMR4tdvRbQ3KSA            89    1.5\n",
       "...           ...                     ...           ...    ...\n",
       "46867  McDonald's  OAT5j2W8F5ypj0eDGH22Xg             6    1.5\n",
       "14967  McDonald's  d3v51cMiLdNvn0GevIQDeg             5    3.0\n",
       "25585  McDonald's  M99ZH5s10gditCQZCJfCMQ             5    2.5\n",
       "17036  McDonald's  k52dmNDRnhwpwEju7LI-fg             5    2.0\n",
       "20344  McDonald's  2s1e-4t_35JfQBXAluqqzg             5    1.0\n",
       "\n",
       "[227 rows x 4 columns]"
      ]
     },
     "execution_count": 25,
     "metadata": {},
     "output_type": "execute_result"
    }
   ],
   "source": [
    "sorted_mcdonalds"
   ]
  },
  {
   "cell_type": "code",
   "execution_count": 30,
   "id": "bee8b967",
   "metadata": {},
   "outputs": [],
   "source": [
    "businesses_bad=restaurants[(restaurants['name']==\"McDonald's\") |\n",
    "                (restaurants['name']==\"Starbucks\") |\n",
    "               (restaurants['name']==\"Domino's Pizza\") |\n",
    "               (restaurants['name']==\"Burger King\") |\n",
    "               (restaurants['name']==\"Subway\")]"
   ]
  },
  {
   "cell_type": "code",
   "execution_count": 31,
   "id": "6f9a57b2",
   "metadata": {},
   "outputs": [],
   "source": [
    "biz_ids_bad=businesses_bad.business_id.unique()"
   ]
  },
  {
   "cell_type": "code",
   "execution_count": 33,
   "id": "a3c7b1db",
   "metadata": {},
   "outputs": [],
   "source": [
    "yelp_review_bad=reviews.loc[reviews['business_id'].isin(biz_ids_bad)]"
   ]
  },
  {
   "cell_type": "code",
   "execution_count": 34,
   "id": "edc24fa7",
   "metadata": {},
   "outputs": [],
   "source": [
    "new_dataset_bad=pd.merge(businesses_bad,yelp_review_bad,on='business_id')"
   ]
  },
  {
   "cell_type": "code",
   "execution_count": null,
   "id": "e04e3e6b",
   "metadata": {},
   "outputs": [],
   "source": []
  },
  {
   "cell_type": "code",
   "execution_count": 38,
   "id": "bae8bf76",
   "metadata": {},
   "outputs": [
    {
     "data": {
      "application/vnd.plotly.v1+json": {
       "config": {
        "plotlyServerURL": "https://plot.ly"
       },
       "data": [
        {
         "alignmentgroup": "True",
         "hovertemplate": "Companies=%{x}<br>Reviews Distribution=%{y}<br>text=%{text}<br>Legend=%{marker.color}<extra></extra>",
         "legendgroup": "",
         "marker": {
          "color": [
           1,
           2,
           3,
           4,
           5,
           1,
           2,
           3,
           4,
           5,
           1,
           2,
           3,
           4,
           5,
           1,
           2,
           3,
           4,
           5,
           1,
           2,
           3,
           4,
           5
          ],
          "coloraxis": "coloraxis",
          "pattern": {
           "shape": ""
          }
         },
         "name": "",
         "offsetgroup": "",
         "orientation": "v",
         "showlegend": false,
         "text": [
          "61.11%",
          "11.11%",
          "16.67%",
          "5.56%",
          "5.56%",
          "43.24%",
          "10.81%",
          "5.41%",
          "13.51%",
          "27.03%",
          "56.52%",
          "11.96%",
          "9.78%",
          "13.04%",
          "8.70%",
          "25.00%",
          "15.00%",
          "20.00%",
          "15.00%",
          "25.00%",
          "34.38%",
          "25.00%",
          "3.12%",
          "25.00%",
          "12.50%"
         ],
         "textposition": "auto",
         "type": "bar",
         "x": [
          "Burger King",
          "Burger King",
          "Burger King",
          "Burger King",
          "Burger King",
          "Domino's Pizza",
          "Domino's Pizza",
          "Domino's Pizza",
          "Domino's Pizza",
          "Domino's Pizza",
          "McDonald's",
          "McDonald's",
          "McDonald's",
          "McDonald's",
          "McDonald's",
          "Starbucks",
          "Starbucks",
          "Starbucks",
          "Starbucks",
          "Starbucks",
          "Subway",
          "Subway",
          "Subway",
          "Subway",
          "Subway"
         ],
         "xaxis": "x",
         "y": [
          11,
          2,
          3,
          1,
          1,
          16,
          4,
          2,
          5,
          10,
          52,
          11,
          9,
          12,
          8,
          5,
          3,
          4,
          3,
          5,
          11,
          8,
          1,
          8,
          4
         ],
         "yaxis": "y"
        }
       ],
       "layout": {
        "barmode": "relative",
        "coloraxis": {
         "colorbar": {
          "title": {
           "text": "Legend"
          }
         },
         "colorscale": [
          [
           0,
           "#0d0887"
          ],
          [
           0.1111111111111111,
           "#46039f"
          ],
          [
           0.2222222222222222,
           "#7201a8"
          ],
          [
           0.3333333333333333,
           "#9c179e"
          ],
          [
           0.4444444444444444,
           "#bd3786"
          ],
          [
           0.5555555555555556,
           "#d8576b"
          ],
          [
           0.6666666666666666,
           "#ed7953"
          ],
          [
           0.7777777777777778,
           "#fb9f3a"
          ],
          [
           0.8888888888888888,
           "#fdca26"
          ],
          [
           1,
           "#f0f921"
          ]
         ]
        },
        "legend": {
         "tracegroupgap": 0
        },
        "template": {
         "data": {
          "bar": [
           {
            "error_x": {
             "color": "#2a3f5f"
            },
            "error_y": {
             "color": "#2a3f5f"
            },
            "marker": {
             "line": {
              "color": "#E5ECF6",
              "width": 0.5
             },
             "pattern": {
              "fillmode": "overlay",
              "size": 10,
              "solidity": 0.2
             }
            },
            "type": "bar"
           }
          ],
          "barpolar": [
           {
            "marker": {
             "line": {
              "color": "#E5ECF6",
              "width": 0.5
             },
             "pattern": {
              "fillmode": "overlay",
              "size": 10,
              "solidity": 0.2
             }
            },
            "type": "barpolar"
           }
          ],
          "carpet": [
           {
            "aaxis": {
             "endlinecolor": "#2a3f5f",
             "gridcolor": "white",
             "linecolor": "white",
             "minorgridcolor": "white",
             "startlinecolor": "#2a3f5f"
            },
            "baxis": {
             "endlinecolor": "#2a3f5f",
             "gridcolor": "white",
             "linecolor": "white",
             "minorgridcolor": "white",
             "startlinecolor": "#2a3f5f"
            },
            "type": "carpet"
           }
          ],
          "choropleth": [
           {
            "colorbar": {
             "outlinewidth": 0,
             "ticks": ""
            },
            "type": "choropleth"
           }
          ],
          "contour": [
           {
            "colorbar": {
             "outlinewidth": 0,
             "ticks": ""
            },
            "colorscale": [
             [
              0,
              "#0d0887"
             ],
             [
              0.1111111111111111,
              "#46039f"
             ],
             [
              0.2222222222222222,
              "#7201a8"
             ],
             [
              0.3333333333333333,
              "#9c179e"
             ],
             [
              0.4444444444444444,
              "#bd3786"
             ],
             [
              0.5555555555555556,
              "#d8576b"
             ],
             [
              0.6666666666666666,
              "#ed7953"
             ],
             [
              0.7777777777777778,
              "#fb9f3a"
             ],
             [
              0.8888888888888888,
              "#fdca26"
             ],
             [
              1,
              "#f0f921"
             ]
            ],
            "type": "contour"
           }
          ],
          "contourcarpet": [
           {
            "colorbar": {
             "outlinewidth": 0,
             "ticks": ""
            },
            "type": "contourcarpet"
           }
          ],
          "heatmap": [
           {
            "colorbar": {
             "outlinewidth": 0,
             "ticks": ""
            },
            "colorscale": [
             [
              0,
              "#0d0887"
             ],
             [
              0.1111111111111111,
              "#46039f"
             ],
             [
              0.2222222222222222,
              "#7201a8"
             ],
             [
              0.3333333333333333,
              "#9c179e"
             ],
             [
              0.4444444444444444,
              "#bd3786"
             ],
             [
              0.5555555555555556,
              "#d8576b"
             ],
             [
              0.6666666666666666,
              "#ed7953"
             ],
             [
              0.7777777777777778,
              "#fb9f3a"
             ],
             [
              0.8888888888888888,
              "#fdca26"
             ],
             [
              1,
              "#f0f921"
             ]
            ],
            "type": "heatmap"
           }
          ],
          "heatmapgl": [
           {
            "colorbar": {
             "outlinewidth": 0,
             "ticks": ""
            },
            "colorscale": [
             [
              0,
              "#0d0887"
             ],
             [
              0.1111111111111111,
              "#46039f"
             ],
             [
              0.2222222222222222,
              "#7201a8"
             ],
             [
              0.3333333333333333,
              "#9c179e"
             ],
             [
              0.4444444444444444,
              "#bd3786"
             ],
             [
              0.5555555555555556,
              "#d8576b"
             ],
             [
              0.6666666666666666,
              "#ed7953"
             ],
             [
              0.7777777777777778,
              "#fb9f3a"
             ],
             [
              0.8888888888888888,
              "#fdca26"
             ],
             [
              1,
              "#f0f921"
             ]
            ],
            "type": "heatmapgl"
           }
          ],
          "histogram": [
           {
            "marker": {
             "pattern": {
              "fillmode": "overlay",
              "size": 10,
              "solidity": 0.2
             }
            },
            "type": "histogram"
           }
          ],
          "histogram2d": [
           {
            "colorbar": {
             "outlinewidth": 0,
             "ticks": ""
            },
            "colorscale": [
             [
              0,
              "#0d0887"
             ],
             [
              0.1111111111111111,
              "#46039f"
             ],
             [
              0.2222222222222222,
              "#7201a8"
             ],
             [
              0.3333333333333333,
              "#9c179e"
             ],
             [
              0.4444444444444444,
              "#bd3786"
             ],
             [
              0.5555555555555556,
              "#d8576b"
             ],
             [
              0.6666666666666666,
              "#ed7953"
             ],
             [
              0.7777777777777778,
              "#fb9f3a"
             ],
             [
              0.8888888888888888,
              "#fdca26"
             ],
             [
              1,
              "#f0f921"
             ]
            ],
            "type": "histogram2d"
           }
          ],
          "histogram2dcontour": [
           {
            "colorbar": {
             "outlinewidth": 0,
             "ticks": ""
            },
            "colorscale": [
             [
              0,
              "#0d0887"
             ],
             [
              0.1111111111111111,
              "#46039f"
             ],
             [
              0.2222222222222222,
              "#7201a8"
             ],
             [
              0.3333333333333333,
              "#9c179e"
             ],
             [
              0.4444444444444444,
              "#bd3786"
             ],
             [
              0.5555555555555556,
              "#d8576b"
             ],
             [
              0.6666666666666666,
              "#ed7953"
             ],
             [
              0.7777777777777778,
              "#fb9f3a"
             ],
             [
              0.8888888888888888,
              "#fdca26"
             ],
             [
              1,
              "#f0f921"
             ]
            ],
            "type": "histogram2dcontour"
           }
          ],
          "mesh3d": [
           {
            "colorbar": {
             "outlinewidth": 0,
             "ticks": ""
            },
            "type": "mesh3d"
           }
          ],
          "parcoords": [
           {
            "line": {
             "colorbar": {
              "outlinewidth": 0,
              "ticks": ""
             }
            },
            "type": "parcoords"
           }
          ],
          "pie": [
           {
            "automargin": true,
            "type": "pie"
           }
          ],
          "scatter": [
           {
            "fillpattern": {
             "fillmode": "overlay",
             "size": 10,
             "solidity": 0.2
            },
            "type": "scatter"
           }
          ],
          "scatter3d": [
           {
            "line": {
             "colorbar": {
              "outlinewidth": 0,
              "ticks": ""
             }
            },
            "marker": {
             "colorbar": {
              "outlinewidth": 0,
              "ticks": ""
             }
            },
            "type": "scatter3d"
           }
          ],
          "scattercarpet": [
           {
            "marker": {
             "colorbar": {
              "outlinewidth": 0,
              "ticks": ""
             }
            },
            "type": "scattercarpet"
           }
          ],
          "scattergeo": [
           {
            "marker": {
             "colorbar": {
              "outlinewidth": 0,
              "ticks": ""
             }
            },
            "type": "scattergeo"
           }
          ],
          "scattergl": [
           {
            "marker": {
             "colorbar": {
              "outlinewidth": 0,
              "ticks": ""
             }
            },
            "type": "scattergl"
           }
          ],
          "scattermapbox": [
           {
            "marker": {
             "colorbar": {
              "outlinewidth": 0,
              "ticks": ""
             }
            },
            "type": "scattermapbox"
           }
          ],
          "scatterpolar": [
           {
            "marker": {
             "colorbar": {
              "outlinewidth": 0,
              "ticks": ""
             }
            },
            "type": "scatterpolar"
           }
          ],
          "scatterpolargl": [
           {
            "marker": {
             "colorbar": {
              "outlinewidth": 0,
              "ticks": ""
             }
            },
            "type": "scatterpolargl"
           }
          ],
          "scatterternary": [
           {
            "marker": {
             "colorbar": {
              "outlinewidth": 0,
              "ticks": ""
             }
            },
            "type": "scatterternary"
           }
          ],
          "surface": [
           {
            "colorbar": {
             "outlinewidth": 0,
             "ticks": ""
            },
            "colorscale": [
             [
              0,
              "#0d0887"
             ],
             [
              0.1111111111111111,
              "#46039f"
             ],
             [
              0.2222222222222222,
              "#7201a8"
             ],
             [
              0.3333333333333333,
              "#9c179e"
             ],
             [
              0.4444444444444444,
              "#bd3786"
             ],
             [
              0.5555555555555556,
              "#d8576b"
             ],
             [
              0.6666666666666666,
              "#ed7953"
             ],
             [
              0.7777777777777778,
              "#fb9f3a"
             ],
             [
              0.8888888888888888,
              "#fdca26"
             ],
             [
              1,
              "#f0f921"
             ]
            ],
            "type": "surface"
           }
          ],
          "table": [
           {
            "cells": {
             "fill": {
              "color": "#EBF0F8"
             },
             "line": {
              "color": "white"
             }
            },
            "header": {
             "fill": {
              "color": "#C8D4E3"
             },
             "line": {
              "color": "white"
             }
            },
            "type": "table"
           }
          ]
         },
         "layout": {
          "annotationdefaults": {
           "arrowcolor": "#2a3f5f",
           "arrowhead": 0,
           "arrowwidth": 1
          },
          "autotypenumbers": "strict",
          "coloraxis": {
           "colorbar": {
            "outlinewidth": 0,
            "ticks": ""
           }
          },
          "colorscale": {
           "diverging": [
            [
             0,
             "#8e0152"
            ],
            [
             0.1,
             "#c51b7d"
            ],
            [
             0.2,
             "#de77ae"
            ],
            [
             0.3,
             "#f1b6da"
            ],
            [
             0.4,
             "#fde0ef"
            ],
            [
             0.5,
             "#f7f7f7"
            ],
            [
             0.6,
             "#e6f5d0"
            ],
            [
             0.7,
             "#b8e186"
            ],
            [
             0.8,
             "#7fbc41"
            ],
            [
             0.9,
             "#4d9221"
            ],
            [
             1,
             "#276419"
            ]
           ],
           "sequential": [
            [
             0,
             "#0d0887"
            ],
            [
             0.1111111111111111,
             "#46039f"
            ],
            [
             0.2222222222222222,
             "#7201a8"
            ],
            [
             0.3333333333333333,
             "#9c179e"
            ],
            [
             0.4444444444444444,
             "#bd3786"
            ],
            [
             0.5555555555555556,
             "#d8576b"
            ],
            [
             0.6666666666666666,
             "#ed7953"
            ],
            [
             0.7777777777777778,
             "#fb9f3a"
            ],
            [
             0.8888888888888888,
             "#fdca26"
            ],
            [
             1,
             "#f0f921"
            ]
           ],
           "sequentialminus": [
            [
             0,
             "#0d0887"
            ],
            [
             0.1111111111111111,
             "#46039f"
            ],
            [
             0.2222222222222222,
             "#7201a8"
            ],
            [
             0.3333333333333333,
             "#9c179e"
            ],
            [
             0.4444444444444444,
             "#bd3786"
            ],
            [
             0.5555555555555556,
             "#d8576b"
            ],
            [
             0.6666666666666666,
             "#ed7953"
            ],
            [
             0.7777777777777778,
             "#fb9f3a"
            ],
            [
             0.8888888888888888,
             "#fdca26"
            ],
            [
             1,
             "#f0f921"
            ]
           ]
          },
          "colorway": [
           "#636efa",
           "#EF553B",
           "#00cc96",
           "#ab63fa",
           "#FFA15A",
           "#19d3f3",
           "#FF6692",
           "#B6E880",
           "#FF97FF",
           "#FECB52"
          ],
          "font": {
           "color": "#2a3f5f"
          },
          "geo": {
           "bgcolor": "white",
           "lakecolor": "white",
           "landcolor": "#E5ECF6",
           "showlakes": true,
           "showland": true,
           "subunitcolor": "white"
          },
          "hoverlabel": {
           "align": "left"
          },
          "hovermode": "closest",
          "mapbox": {
           "style": "light"
          },
          "paper_bgcolor": "white",
          "plot_bgcolor": "#E5ECF6",
          "polar": {
           "angularaxis": {
            "gridcolor": "white",
            "linecolor": "white",
            "ticks": ""
           },
           "bgcolor": "#E5ECF6",
           "radialaxis": {
            "gridcolor": "white",
            "linecolor": "white",
            "ticks": ""
           }
          },
          "scene": {
           "xaxis": {
            "backgroundcolor": "#E5ECF6",
            "gridcolor": "white",
            "gridwidth": 2,
            "linecolor": "white",
            "showbackground": true,
            "ticks": "",
            "zerolinecolor": "white"
           },
           "yaxis": {
            "backgroundcolor": "#E5ECF6",
            "gridcolor": "white",
            "gridwidth": 2,
            "linecolor": "white",
            "showbackground": true,
            "ticks": "",
            "zerolinecolor": "white"
           },
           "zaxis": {
            "backgroundcolor": "#E5ECF6",
            "gridcolor": "white",
            "gridwidth": 2,
            "linecolor": "white",
            "showbackground": true,
            "ticks": "",
            "zerolinecolor": "white"
           }
          },
          "shapedefaults": {
           "line": {
            "color": "#2a3f5f"
           }
          },
          "ternary": {
           "aaxis": {
            "gridcolor": "white",
            "linecolor": "white",
            "ticks": ""
           },
           "baxis": {
            "gridcolor": "white",
            "linecolor": "white",
            "ticks": ""
           },
           "bgcolor": "#E5ECF6",
           "caxis": {
            "gridcolor": "white",
            "linecolor": "white",
            "ticks": ""
           }
          },
          "title": {
           "x": 0.05
          },
          "xaxis": {
           "automargin": true,
           "gridcolor": "white",
           "linecolor": "white",
           "ticks": "",
           "title": {
            "standoff": 15
           },
           "zerolinecolor": "white",
           "zerolinewidth": 2
          },
          "yaxis": {
           "automargin": true,
           "gridcolor": "white",
           "linecolor": "white",
           "ticks": "",
           "title": {
            "standoff": 15
           },
           "zerolinecolor": "white",
           "zerolinewidth": 2
          }
         }
        },
        "title": {
         "text": "Distribution of Reviews Among Companies That Are Doing Bad"
        },
        "xaxis": {
         "anchor": "y",
         "domain": [
          0,
          1
         ],
         "title": {
          "text": "Companies"
         }
        },
        "yaxis": {
         "anchor": "x",
         "domain": [
          0,
          1
         ],
         "title": {
          "text": "Reviews Distribution"
         }
        }
       }
      },
      "text/html": [
       "<div>                            <div id=\"76fcd33e-9eb7-4ec6-8b36-dbf3aa033ca6\" class=\"plotly-graph-div\" style=\"height:525px; width:100%;\"></div>            <script type=\"text/javascript\">                require([\"plotly\"], function(Plotly) {                    window.PLOTLYENV=window.PLOTLYENV || {};                                    if (document.getElementById(\"76fcd33e-9eb7-4ec6-8b36-dbf3aa033ca6\")) {                    Plotly.newPlot(                        \"76fcd33e-9eb7-4ec6-8b36-dbf3aa033ca6\",                        [{\"alignmentgroup\":\"True\",\"hovertemplate\":\"Companies=%{x}<br>Reviews Distribution=%{y}<br>text=%{text}<br>Legend=%{marker.color}<extra></extra>\",\"legendgroup\":\"\",\"marker\":{\"color\":[1,2,3,4,5,1,2,3,4,5,1,2,3,4,5,1,2,3,4,5,1,2,3,4,5],\"coloraxis\":\"coloraxis\",\"pattern\":{\"shape\":\"\"}},\"name\":\"\",\"offsetgroup\":\"\",\"orientation\":\"v\",\"showlegend\":false,\"text\":[\"61.11%\",\"11.11%\",\"16.67%\",\"5.56%\",\"5.56%\",\"43.24%\",\"10.81%\",\"5.41%\",\"13.51%\",\"27.03%\",\"56.52%\",\"11.96%\",\"9.78%\",\"13.04%\",\"8.70%\",\"25.00%\",\"15.00%\",\"20.00%\",\"15.00%\",\"25.00%\",\"34.38%\",\"25.00%\",\"3.12%\",\"25.00%\",\"12.50%\"],\"textposition\":\"auto\",\"x\":[\"Burger King\",\"Burger King\",\"Burger King\",\"Burger King\",\"Burger King\",\"Domino's Pizza\",\"Domino's Pizza\",\"Domino's Pizza\",\"Domino's Pizza\",\"Domino's Pizza\",\"McDonald's\",\"McDonald's\",\"McDonald's\",\"McDonald's\",\"McDonald's\",\"Starbucks\",\"Starbucks\",\"Starbucks\",\"Starbucks\",\"Starbucks\",\"Subway\",\"Subway\",\"Subway\",\"Subway\",\"Subway\"],\"xaxis\":\"x\",\"y\":[11,2,3,1,1,16,4,2,5,10,52,11,9,12,8,5,3,4,3,5,11,8,1,8,4],\"yaxis\":\"y\",\"type\":\"bar\"}],                        {\"template\":{\"data\":{\"histogram2dcontour\":[{\"type\":\"histogram2dcontour\",\"colorbar\":{\"outlinewidth\":0,\"ticks\":\"\"},\"colorscale\":[[0.0,\"#0d0887\"],[0.1111111111111111,\"#46039f\"],[0.2222222222222222,\"#7201a8\"],[0.3333333333333333,\"#9c179e\"],[0.4444444444444444,\"#bd3786\"],[0.5555555555555556,\"#d8576b\"],[0.6666666666666666,\"#ed7953\"],[0.7777777777777778,\"#fb9f3a\"],[0.8888888888888888,\"#fdca26\"],[1.0,\"#f0f921\"]]}],\"choropleth\":[{\"type\":\"choropleth\",\"colorbar\":{\"outlinewidth\":0,\"ticks\":\"\"}}],\"histogram2d\":[{\"type\":\"histogram2d\",\"colorbar\":{\"outlinewidth\":0,\"ticks\":\"\"},\"colorscale\":[[0.0,\"#0d0887\"],[0.1111111111111111,\"#46039f\"],[0.2222222222222222,\"#7201a8\"],[0.3333333333333333,\"#9c179e\"],[0.4444444444444444,\"#bd3786\"],[0.5555555555555556,\"#d8576b\"],[0.6666666666666666,\"#ed7953\"],[0.7777777777777778,\"#fb9f3a\"],[0.8888888888888888,\"#fdca26\"],[1.0,\"#f0f921\"]]}],\"heatmap\":[{\"type\":\"heatmap\",\"colorbar\":{\"outlinewidth\":0,\"ticks\":\"\"},\"colorscale\":[[0.0,\"#0d0887\"],[0.1111111111111111,\"#46039f\"],[0.2222222222222222,\"#7201a8\"],[0.3333333333333333,\"#9c179e\"],[0.4444444444444444,\"#bd3786\"],[0.5555555555555556,\"#d8576b\"],[0.6666666666666666,\"#ed7953\"],[0.7777777777777778,\"#fb9f3a\"],[0.8888888888888888,\"#fdca26\"],[1.0,\"#f0f921\"]]}],\"heatmapgl\":[{\"type\":\"heatmapgl\",\"colorbar\":{\"outlinewidth\":0,\"ticks\":\"\"},\"colorscale\":[[0.0,\"#0d0887\"],[0.1111111111111111,\"#46039f\"],[0.2222222222222222,\"#7201a8\"],[0.3333333333333333,\"#9c179e\"],[0.4444444444444444,\"#bd3786\"],[0.5555555555555556,\"#d8576b\"],[0.6666666666666666,\"#ed7953\"],[0.7777777777777778,\"#fb9f3a\"],[0.8888888888888888,\"#fdca26\"],[1.0,\"#f0f921\"]]}],\"contourcarpet\":[{\"type\":\"contourcarpet\",\"colorbar\":{\"outlinewidth\":0,\"ticks\":\"\"}}],\"contour\":[{\"type\":\"contour\",\"colorbar\":{\"outlinewidth\":0,\"ticks\":\"\"},\"colorscale\":[[0.0,\"#0d0887\"],[0.1111111111111111,\"#46039f\"],[0.2222222222222222,\"#7201a8\"],[0.3333333333333333,\"#9c179e\"],[0.4444444444444444,\"#bd3786\"],[0.5555555555555556,\"#d8576b\"],[0.6666666666666666,\"#ed7953\"],[0.7777777777777778,\"#fb9f3a\"],[0.8888888888888888,\"#fdca26\"],[1.0,\"#f0f921\"]]}],\"surface\":[{\"type\":\"surface\",\"colorbar\":{\"outlinewidth\":0,\"ticks\":\"\"},\"colorscale\":[[0.0,\"#0d0887\"],[0.1111111111111111,\"#46039f\"],[0.2222222222222222,\"#7201a8\"],[0.3333333333333333,\"#9c179e\"],[0.4444444444444444,\"#bd3786\"],[0.5555555555555556,\"#d8576b\"],[0.6666666666666666,\"#ed7953\"],[0.7777777777777778,\"#fb9f3a\"],[0.8888888888888888,\"#fdca26\"],[1.0,\"#f0f921\"]]}],\"mesh3d\":[{\"type\":\"mesh3d\",\"colorbar\":{\"outlinewidth\":0,\"ticks\":\"\"}}],\"scatter\":[{\"fillpattern\":{\"fillmode\":\"overlay\",\"size\":10,\"solidity\":0.2},\"type\":\"scatter\"}],\"parcoords\":[{\"type\":\"parcoords\",\"line\":{\"colorbar\":{\"outlinewidth\":0,\"ticks\":\"\"}}}],\"scatterpolargl\":[{\"type\":\"scatterpolargl\",\"marker\":{\"colorbar\":{\"outlinewidth\":0,\"ticks\":\"\"}}}],\"bar\":[{\"error_x\":{\"color\":\"#2a3f5f\"},\"error_y\":{\"color\":\"#2a3f5f\"},\"marker\":{\"line\":{\"color\":\"#E5ECF6\",\"width\":0.5},\"pattern\":{\"fillmode\":\"overlay\",\"size\":10,\"solidity\":0.2}},\"type\":\"bar\"}],\"scattergeo\":[{\"type\":\"scattergeo\",\"marker\":{\"colorbar\":{\"outlinewidth\":0,\"ticks\":\"\"}}}],\"scatterpolar\":[{\"type\":\"scatterpolar\",\"marker\":{\"colorbar\":{\"outlinewidth\":0,\"ticks\":\"\"}}}],\"histogram\":[{\"marker\":{\"pattern\":{\"fillmode\":\"overlay\",\"size\":10,\"solidity\":0.2}},\"type\":\"histogram\"}],\"scattergl\":[{\"type\":\"scattergl\",\"marker\":{\"colorbar\":{\"outlinewidth\":0,\"ticks\":\"\"}}}],\"scatter3d\":[{\"type\":\"scatter3d\",\"line\":{\"colorbar\":{\"outlinewidth\":0,\"ticks\":\"\"}},\"marker\":{\"colorbar\":{\"outlinewidth\":0,\"ticks\":\"\"}}}],\"scattermapbox\":[{\"type\":\"scattermapbox\",\"marker\":{\"colorbar\":{\"outlinewidth\":0,\"ticks\":\"\"}}}],\"scatterternary\":[{\"type\":\"scatterternary\",\"marker\":{\"colorbar\":{\"outlinewidth\":0,\"ticks\":\"\"}}}],\"scattercarpet\":[{\"type\":\"scattercarpet\",\"marker\":{\"colorbar\":{\"outlinewidth\":0,\"ticks\":\"\"}}}],\"carpet\":[{\"aaxis\":{\"endlinecolor\":\"#2a3f5f\",\"gridcolor\":\"white\",\"linecolor\":\"white\",\"minorgridcolor\":\"white\",\"startlinecolor\":\"#2a3f5f\"},\"baxis\":{\"endlinecolor\":\"#2a3f5f\",\"gridcolor\":\"white\",\"linecolor\":\"white\",\"minorgridcolor\":\"white\",\"startlinecolor\":\"#2a3f5f\"},\"type\":\"carpet\"}],\"table\":[{\"cells\":{\"fill\":{\"color\":\"#EBF0F8\"},\"line\":{\"color\":\"white\"}},\"header\":{\"fill\":{\"color\":\"#C8D4E3\"},\"line\":{\"color\":\"white\"}},\"type\":\"table\"}],\"barpolar\":[{\"marker\":{\"line\":{\"color\":\"#E5ECF6\",\"width\":0.5},\"pattern\":{\"fillmode\":\"overlay\",\"size\":10,\"solidity\":0.2}},\"type\":\"barpolar\"}],\"pie\":[{\"automargin\":true,\"type\":\"pie\"}]},\"layout\":{\"autotypenumbers\":\"strict\",\"colorway\":[\"#636efa\",\"#EF553B\",\"#00cc96\",\"#ab63fa\",\"#FFA15A\",\"#19d3f3\",\"#FF6692\",\"#B6E880\",\"#FF97FF\",\"#FECB52\"],\"font\":{\"color\":\"#2a3f5f\"},\"hovermode\":\"closest\",\"hoverlabel\":{\"align\":\"left\"},\"paper_bgcolor\":\"white\",\"plot_bgcolor\":\"#E5ECF6\",\"polar\":{\"bgcolor\":\"#E5ECF6\",\"angularaxis\":{\"gridcolor\":\"white\",\"linecolor\":\"white\",\"ticks\":\"\"},\"radialaxis\":{\"gridcolor\":\"white\",\"linecolor\":\"white\",\"ticks\":\"\"}},\"ternary\":{\"bgcolor\":\"#E5ECF6\",\"aaxis\":{\"gridcolor\":\"white\",\"linecolor\":\"white\",\"ticks\":\"\"},\"baxis\":{\"gridcolor\":\"white\",\"linecolor\":\"white\",\"ticks\":\"\"},\"caxis\":{\"gridcolor\":\"white\",\"linecolor\":\"white\",\"ticks\":\"\"}},\"coloraxis\":{\"colorbar\":{\"outlinewidth\":0,\"ticks\":\"\"}},\"colorscale\":{\"sequential\":[[0.0,\"#0d0887\"],[0.1111111111111111,\"#46039f\"],[0.2222222222222222,\"#7201a8\"],[0.3333333333333333,\"#9c179e\"],[0.4444444444444444,\"#bd3786\"],[0.5555555555555556,\"#d8576b\"],[0.6666666666666666,\"#ed7953\"],[0.7777777777777778,\"#fb9f3a\"],[0.8888888888888888,\"#fdca26\"],[1.0,\"#f0f921\"]],\"sequentialminus\":[[0.0,\"#0d0887\"],[0.1111111111111111,\"#46039f\"],[0.2222222222222222,\"#7201a8\"],[0.3333333333333333,\"#9c179e\"],[0.4444444444444444,\"#bd3786\"],[0.5555555555555556,\"#d8576b\"],[0.6666666666666666,\"#ed7953\"],[0.7777777777777778,\"#fb9f3a\"],[0.8888888888888888,\"#fdca26\"],[1.0,\"#f0f921\"]],\"diverging\":[[0,\"#8e0152\"],[0.1,\"#c51b7d\"],[0.2,\"#de77ae\"],[0.3,\"#f1b6da\"],[0.4,\"#fde0ef\"],[0.5,\"#f7f7f7\"],[0.6,\"#e6f5d0\"],[0.7,\"#b8e186\"],[0.8,\"#7fbc41\"],[0.9,\"#4d9221\"],[1,\"#276419\"]]},\"xaxis\":{\"gridcolor\":\"white\",\"linecolor\":\"white\",\"ticks\":\"\",\"title\":{\"standoff\":15},\"zerolinecolor\":\"white\",\"automargin\":true,\"zerolinewidth\":2},\"yaxis\":{\"gridcolor\":\"white\",\"linecolor\":\"white\",\"ticks\":\"\",\"title\":{\"standoff\":15},\"zerolinecolor\":\"white\",\"automargin\":true,\"zerolinewidth\":2},\"scene\":{\"xaxis\":{\"backgroundcolor\":\"#E5ECF6\",\"gridcolor\":\"white\",\"linecolor\":\"white\",\"showbackground\":true,\"ticks\":\"\",\"zerolinecolor\":\"white\",\"gridwidth\":2},\"yaxis\":{\"backgroundcolor\":\"#E5ECF6\",\"gridcolor\":\"white\",\"linecolor\":\"white\",\"showbackground\":true,\"ticks\":\"\",\"zerolinecolor\":\"white\",\"gridwidth\":2},\"zaxis\":{\"backgroundcolor\":\"#E5ECF6\",\"gridcolor\":\"white\",\"linecolor\":\"white\",\"showbackground\":true,\"ticks\":\"\",\"zerolinecolor\":\"white\",\"gridwidth\":2}},\"shapedefaults\":{\"line\":{\"color\":\"#2a3f5f\"}},\"annotationdefaults\":{\"arrowcolor\":\"#2a3f5f\",\"arrowhead\":0,\"arrowwidth\":1},\"geo\":{\"bgcolor\":\"white\",\"landcolor\":\"#E5ECF6\",\"subunitcolor\":\"white\",\"showland\":true,\"showlakes\":true,\"lakecolor\":\"white\"},\"title\":{\"x\":0.05},\"mapbox\":{\"style\":\"light\"}}},\"xaxis\":{\"anchor\":\"y\",\"domain\":[0.0,1.0],\"title\":{\"text\":\"Companies\"}},\"yaxis\":{\"anchor\":\"x\",\"domain\":[0.0,1.0],\"title\":{\"text\":\"Reviews Distribution\"}},\"coloraxis\":{\"colorbar\":{\"title\":{\"text\":\"Legend\"}},\"colorscale\":[[0.0,\"#0d0887\"],[0.1111111111111111,\"#46039f\"],[0.2222222222222222,\"#7201a8\"],[0.3333333333333333,\"#9c179e\"],[0.4444444444444444,\"#bd3786\"],[0.5555555555555556,\"#d8576b\"],[0.6666666666666666,\"#ed7953\"],[0.7777777777777778,\"#fb9f3a\"],[0.8888888888888888,\"#fdca26\"],[1.0,\"#f0f921\"]]},\"legend\":{\"tracegroupgap\":0},\"title\":{\"text\":\"Distribution of Reviews Among Companies That Are Doing Bad\"},\"barmode\":\"relative\"},                        {\"responsive\": true}                    ).then(function(){\n",
       "                            \n",
       "var gd = document.getElementById('76fcd33e-9eb7-4ec6-8b36-dbf3aa033ca6');\n",
       "var x = new MutationObserver(function (mutations, observer) {{\n",
       "        var display = window.getComputedStyle(gd).display;\n",
       "        if (!display || display === 'none') {{\n",
       "            console.log([gd, 'removed!']);\n",
       "            Plotly.purge(gd);\n",
       "            observer.disconnect();\n",
       "        }}\n",
       "}});\n",
       "\n",
       "// Listen for the removal of the full notebook cells\n",
       "var notebookContainer = gd.closest('#notebook-container');\n",
       "if (notebookContainer) {{\n",
       "    x.observe(notebookContainer, {childList: true});\n",
       "}}\n",
       "\n",
       "// Listen for the clearing of the current output cell\n",
       "var outputEl = gd.closest('.output');\n",
       "if (outputEl) {{\n",
       "    x.observe(outputEl, {childList: true});\n",
       "}}\n",
       "\n",
       "                        })                };                });            </script>        </div>"
      ]
     },
     "metadata": {},
     "output_type": "display_data"
    }
   ],
   "source": [
    "import plotly.express as px\n",
    "\n",
    "# Group the data by 'name' and 'stars_y' columns and calculate the counts\n",
    "grouped_df_bad = new_dataset_bad.groupby(by=[\"name\", \"stars_y\"]).size().reset_index(name=\"counts\")\n",
    "\n",
    "# Calculate the percentage of counts for each company\n",
    "grouped_df_bad['percentage'] = 100 * grouped_df_bad['counts'] / grouped_df_bad.groupby('name')['counts'].transform('sum')\n",
    "\n",
    "# Create the bar chart\n",
    "plot_1 = px.bar(grouped_df_bad, \n",
    "                x='name', \n",
    "                y='counts', \n",
    "                color='stars_y', \n",
    "                text=grouped_df_bad['percentage'].apply(lambda x: '{0:1.2f}%'.format(x)),\n",
    "                labels={\n",
    "                    \"name\": \"Companies\",\n",
    "                    \"counts\": \"Reviews Distribution\",\n",
    "                    \"stars_y\": \"Legend\"\n",
    "                },\n",
    "                title=\"Distribution of Reviews Among Companies That Are Doing Bad\")\n",
    "\n",
    "# Show the chart\n",
    "plot_1.show()\n"
   ]
  },
  {
   "cell_type": "code",
   "execution_count": 14,
   "id": "dee5b5f6",
   "metadata": {},
   "outputs": [
    {
     "name": "stdout",
     "output_type": "stream",
     "text": [
      "The values in the columns are not similar.\n"
     ]
    }
   ],
   "source": [
    "# Get the column from each dataset\n",
    "column1 = restaurants['business_id']\n",
    "column2 = reviews['business_id']\n",
    "\n",
    "# Check if the values in the columns are similar\n",
    "if column1.equals(column2):\n",
    "    print(\"The values in the columns are similar.\")\n",
    "else:\n",
    "    print(\"The values in the columns are not similar.\")"
   ]
  },
  {
   "cell_type": "code",
   "execution_count": 6,
   "id": "c7dca6d2",
   "metadata": {},
   "outputs": [
    {
     "name": "stdout",
     "output_type": "stream",
     "text": [
      "<class 'pandas.core.frame.DataFrame'>\n",
      "Int64Index: 52286 entries, 3 to 150340\n",
      "Data columns (total 14 columns):\n",
      " #   Column        Non-Null Count  Dtype  \n",
      "---  ------        --------------  -----  \n",
      " 0   business_id   52286 non-null  object \n",
      " 1   name          52286 non-null  object \n",
      " 2   address       52286 non-null  object \n",
      " 3   city          52286 non-null  object \n",
      " 4   state         52286 non-null  object \n",
      " 5   postal_code   52286 non-null  object \n",
      " 6   latitude      52286 non-null  float64\n",
      " 7   longitude     52286 non-null  float64\n",
      " 8   stars         52286 non-null  float64\n",
      " 9   review_count  52286 non-null  int64  \n",
      " 10  is_open       52286 non-null  int64  \n",
      " 11  attributes    51720 non-null  object \n",
      " 12  categories    52286 non-null  object \n",
      " 13  hours         45007 non-null  object \n",
      "dtypes: float64(3), int64(2), object(9)\n",
      "memory usage: 6.0+ MB\n"
     ]
    }
   ],
   "source": [
    "restaurants.info()"
   ]
  },
  {
   "cell_type": "code",
   "execution_count": 16,
   "id": "ef413848",
   "metadata": {},
   "outputs": [],
   "source": [
    "merged_data = pd.merge(restaurants,reviews , on='business_id')\n"
   ]
  },
  {
   "cell_type": "code",
   "execution_count": 17,
   "id": "b42b8c1d",
   "metadata": {},
   "outputs": [
    {
     "data": {
      "text/html": [
       "<div>\n",
       "<style scoped>\n",
       "    .dataframe tbody tr th:only-of-type {\n",
       "        vertical-align: middle;\n",
       "    }\n",
       "\n",
       "    .dataframe tbody tr th {\n",
       "        vertical-align: top;\n",
       "    }\n",
       "\n",
       "    .dataframe thead th {\n",
       "        text-align: right;\n",
       "    }\n",
       "</style>\n",
       "<table border=\"1\" class=\"dataframe\">\n",
       "  <thead>\n",
       "    <tr style=\"text-align: right;\">\n",
       "      <th></th>\n",
       "      <th>business_id</th>\n",
       "      <th>name</th>\n",
       "      <th>address</th>\n",
       "      <th>city</th>\n",
       "      <th>state</th>\n",
       "      <th>postal_code</th>\n",
       "      <th>latitude</th>\n",
       "      <th>longitude</th>\n",
       "      <th>stars_x</th>\n",
       "      <th>review_count</th>\n",
       "      <th>...</th>\n",
       "      <th>categories</th>\n",
       "      <th>hours</th>\n",
       "      <th>review_id</th>\n",
       "      <th>user_id</th>\n",
       "      <th>stars_y</th>\n",
       "      <th>useful</th>\n",
       "      <th>funny</th>\n",
       "      <th>cool</th>\n",
       "      <th>text</th>\n",
       "      <th>date</th>\n",
       "    </tr>\n",
       "  </thead>\n",
       "  <tbody>\n",
       "    <tr>\n",
       "      <th>0</th>\n",
       "      <td>MTSW4McQd7CbVtyjqoe9mw</td>\n",
       "      <td>St Honore Pastries</td>\n",
       "      <td>935 Race St</td>\n",
       "      <td>Philadelphia</td>\n",
       "      <td>PA</td>\n",
       "      <td>19107</td>\n",
       "      <td>39.955505</td>\n",
       "      <td>-75.155564</td>\n",
       "      <td>4.0</td>\n",
       "      <td>80</td>\n",
       "      <td>...</td>\n",
       "      <td>Restaurants, Food, Bubble Tea, Coffee &amp; Tea, B...</td>\n",
       "      <td>{'Monday': '7:0-20:0', 'Tuesday': '7:0-20:0', ...</td>\n",
       "      <td>BXQcBN0iAi1lAUxibGLFzA</td>\n",
       "      <td>6_SpY41LIHZuIaiDs5FMKA</td>\n",
       "      <td>4</td>\n",
       "      <td>0</td>\n",
       "      <td>0</td>\n",
       "      <td>1</td>\n",
       "      <td>This is nice little Chinese bakery in the hear...</td>\n",
       "      <td>2014-05-26 01:09:53</td>\n",
       "    </tr>\n",
       "    <tr>\n",
       "      <th>1</th>\n",
       "      <td>MTSW4McQd7CbVtyjqoe9mw</td>\n",
       "      <td>St Honore Pastries</td>\n",
       "      <td>935 Race St</td>\n",
       "      <td>Philadelphia</td>\n",
       "      <td>PA</td>\n",
       "      <td>19107</td>\n",
       "      <td>39.955505</td>\n",
       "      <td>-75.155564</td>\n",
       "      <td>4.0</td>\n",
       "      <td>80</td>\n",
       "      <td>...</td>\n",
       "      <td>Restaurants, Food, Bubble Tea, Coffee &amp; Tea, B...</td>\n",
       "      <td>{'Monday': '7:0-20:0', 'Tuesday': '7:0-20:0', ...</td>\n",
       "      <td>uduvUCvi9w3T2bSGivCfXg</td>\n",
       "      <td>tCXElwhzekJEH6QJe3xs7Q</td>\n",
       "      <td>4</td>\n",
       "      <td>3</td>\n",
       "      <td>1</td>\n",
       "      <td>2</td>\n",
       "      <td>This is the bakery I usually go to in Chinatow...</td>\n",
       "      <td>2013-10-05 15:19:06</td>\n",
       "    </tr>\n",
       "    <tr>\n",
       "      <th>2</th>\n",
       "      <td>MTSW4McQd7CbVtyjqoe9mw</td>\n",
       "      <td>St Honore Pastries</td>\n",
       "      <td>935 Race St</td>\n",
       "      <td>Philadelphia</td>\n",
       "      <td>PA</td>\n",
       "      <td>19107</td>\n",
       "      <td>39.955505</td>\n",
       "      <td>-75.155564</td>\n",
       "      <td>4.0</td>\n",
       "      <td>80</td>\n",
       "      <td>...</td>\n",
       "      <td>Restaurants, Food, Bubble Tea, Coffee &amp; Tea, B...</td>\n",
       "      <td>{'Monday': '7:0-20:0', 'Tuesday': '7:0-20:0', ...</td>\n",
       "      <td>a0vwPOqDXXZuJkbBW2356g</td>\n",
       "      <td>WqfKtI-aGMmvbA9pPUxNQQ</td>\n",
       "      <td>5</td>\n",
       "      <td>0</td>\n",
       "      <td>0</td>\n",
       "      <td>0</td>\n",
       "      <td>A delightful find in Chinatown! Very clean, an...</td>\n",
       "      <td>2013-10-25 01:34:57</td>\n",
       "    </tr>\n",
       "    <tr>\n",
       "      <th>3</th>\n",
       "      <td>MTSW4McQd7CbVtyjqoe9mw</td>\n",
       "      <td>St Honore Pastries</td>\n",
       "      <td>935 Race St</td>\n",
       "      <td>Philadelphia</td>\n",
       "      <td>PA</td>\n",
       "      <td>19107</td>\n",
       "      <td>39.955505</td>\n",
       "      <td>-75.155564</td>\n",
       "      <td>4.0</td>\n",
       "      <td>80</td>\n",
       "      <td>...</td>\n",
       "      <td>Restaurants, Food, Bubble Tea, Coffee &amp; Tea, B...</td>\n",
       "      <td>{'Monday': '7:0-20:0', 'Tuesday': '7:0-20:0', ...</td>\n",
       "      <td>MKNp_CdR2k2202-c8GN5Dw</td>\n",
       "      <td>3-1va0IQfK-9tUMzfHWfTA</td>\n",
       "      <td>5</td>\n",
       "      <td>5</td>\n",
       "      <td>0</td>\n",
       "      <td>5</td>\n",
       "      <td>I ordered a graduation cake for my niece and i...</td>\n",
       "      <td>2018-05-20 17:58:57</td>\n",
       "    </tr>\n",
       "    <tr>\n",
       "      <th>4</th>\n",
       "      <td>MTSW4McQd7CbVtyjqoe9mw</td>\n",
       "      <td>St Honore Pastries</td>\n",
       "      <td>935 Race St</td>\n",
       "      <td>Philadelphia</td>\n",
       "      <td>PA</td>\n",
       "      <td>19107</td>\n",
       "      <td>39.955505</td>\n",
       "      <td>-75.155564</td>\n",
       "      <td>4.0</td>\n",
       "      <td>80</td>\n",
       "      <td>...</td>\n",
       "      <td>Restaurants, Food, Bubble Tea, Coffee &amp; Tea, B...</td>\n",
       "      <td>{'Monday': '7:0-20:0', 'Tuesday': '7:0-20:0', ...</td>\n",
       "      <td>D1GisLDPe84Rrk_R4X2brQ</td>\n",
       "      <td>EouCKoDfzaVG0klEgdDvCQ</td>\n",
       "      <td>4</td>\n",
       "      <td>2</td>\n",
       "      <td>1</td>\n",
       "      <td>1</td>\n",
       "      <td>HK-STYLE MILK TEA:  FOUR STARS\\n\\nNot quite su...</td>\n",
       "      <td>2013-10-25 02:31:35</td>\n",
       "    </tr>\n",
       "    <tr>\n",
       "      <th>...</th>\n",
       "      <td>...</td>\n",
       "      <td>...</td>\n",
       "      <td>...</td>\n",
       "      <td>...</td>\n",
       "      <td>...</td>\n",
       "      <td>...</td>\n",
       "      <td>...</td>\n",
       "      <td>...</td>\n",
       "      <td>...</td>\n",
       "      <td>...</td>\n",
       "      <td>...</td>\n",
       "      <td>...</td>\n",
       "      <td>...</td>\n",
       "      <td>...</td>\n",
       "      <td>...</td>\n",
       "      <td>...</td>\n",
       "      <td>...</td>\n",
       "      <td>...</td>\n",
       "      <td>...</td>\n",
       "      <td>...</td>\n",
       "      <td>...</td>\n",
       "    </tr>\n",
       "    <tr>\n",
       "      <th>36145</th>\n",
       "      <td>TCROPjxfzCZzrQjqLqstSg</td>\n",
       "      <td>Red Cup Cafe &amp; Hookah Lounge</td>\n",
       "      <td>400 Fairmount Ave</td>\n",
       "      <td>Philadelphia</td>\n",
       "      <td>PA</td>\n",
       "      <td>19123</td>\n",
       "      <td>39.962577</td>\n",
       "      <td>-75.144748</td>\n",
       "      <td>4.0</td>\n",
       "      <td>53</td>\n",
       "      <td>...</td>\n",
       "      <td>Coffee &amp; Tea, Hookah Bars, Nightlife, Bars, Fo...</td>\n",
       "      <td>{'Thursday': '19:0-2:0', 'Friday': '19:0-2:0',...</td>\n",
       "      <td>a6Me3alvkz0ZHhTJflWAqg</td>\n",
       "      <td>Jt3GylPuH64uA3zTdbMdCg</td>\n",
       "      <td>5</td>\n",
       "      <td>2</td>\n",
       "      <td>1</td>\n",
       "      <td>1</td>\n",
       "      <td>After spending the night at a friend's place i...</td>\n",
       "      <td>2012-08-15 22:54:49</td>\n",
       "    </tr>\n",
       "    <tr>\n",
       "      <th>36146</th>\n",
       "      <td>TCROPjxfzCZzrQjqLqstSg</td>\n",
       "      <td>Red Cup Cafe &amp; Hookah Lounge</td>\n",
       "      <td>400 Fairmount Ave</td>\n",
       "      <td>Philadelphia</td>\n",
       "      <td>PA</td>\n",
       "      <td>19123</td>\n",
       "      <td>39.962577</td>\n",
       "      <td>-75.144748</td>\n",
       "      <td>4.0</td>\n",
       "      <td>53</td>\n",
       "      <td>...</td>\n",
       "      <td>Coffee &amp; Tea, Hookah Bars, Nightlife, Bars, Fo...</td>\n",
       "      <td>{'Thursday': '19:0-2:0', 'Friday': '19:0-2:0',...</td>\n",
       "      <td>Edq9-3gpMaH24v6Um4Bpgg</td>\n",
       "      <td>CKtKGUeMGqEdFcKW4LfIbQ</td>\n",
       "      <td>3</td>\n",
       "      <td>0</td>\n",
       "      <td>0</td>\n",
       "      <td>0</td>\n",
       "      <td>Wondered upon this spot one day in early Janua...</td>\n",
       "      <td>2013-06-03 22:30:52</td>\n",
       "    </tr>\n",
       "    <tr>\n",
       "      <th>36147</th>\n",
       "      <td>TCROPjxfzCZzrQjqLqstSg</td>\n",
       "      <td>Red Cup Cafe &amp; Hookah Lounge</td>\n",
       "      <td>400 Fairmount Ave</td>\n",
       "      <td>Philadelphia</td>\n",
       "      <td>PA</td>\n",
       "      <td>19123</td>\n",
       "      <td>39.962577</td>\n",
       "      <td>-75.144748</td>\n",
       "      <td>4.0</td>\n",
       "      <td>53</td>\n",
       "      <td>...</td>\n",
       "      <td>Coffee &amp; Tea, Hookah Bars, Nightlife, Bars, Fo...</td>\n",
       "      <td>{'Thursday': '19:0-2:0', 'Friday': '19:0-2:0',...</td>\n",
       "      <td>mvbKwURF-4VzoJkLAztOvg</td>\n",
       "      <td>6R5YFJ1WJ0bar-jgN84ZSg</td>\n",
       "      <td>5</td>\n",
       "      <td>0</td>\n",
       "      <td>0</td>\n",
       "      <td>0</td>\n",
       "      <td>I give this place even more stars, if I could....</td>\n",
       "      <td>2010-12-05 16:05:04</td>\n",
       "    </tr>\n",
       "    <tr>\n",
       "      <th>36148</th>\n",
       "      <td>TCROPjxfzCZzrQjqLqstSg</td>\n",
       "      <td>Red Cup Cafe &amp; Hookah Lounge</td>\n",
       "      <td>400 Fairmount Ave</td>\n",
       "      <td>Philadelphia</td>\n",
       "      <td>PA</td>\n",
       "      <td>19123</td>\n",
       "      <td>39.962577</td>\n",
       "      <td>-75.144748</td>\n",
       "      <td>4.0</td>\n",
       "      <td>53</td>\n",
       "      <td>...</td>\n",
       "      <td>Coffee &amp; Tea, Hookah Bars, Nightlife, Bars, Fo...</td>\n",
       "      <td>{'Thursday': '19:0-2:0', 'Friday': '19:0-2:0',...</td>\n",
       "      <td>JJQcLSgqz-q61f-8-dWIvA</td>\n",
       "      <td>9PxNuhzOJ_nCOj4F-qQfrg</td>\n",
       "      <td>4</td>\n",
       "      <td>0</td>\n",
       "      <td>0</td>\n",
       "      <td>0</td>\n",
       "      <td>Hours keep getting moved back. Now closing at ...</td>\n",
       "      <td>2014-08-11 18:19:05</td>\n",
       "    </tr>\n",
       "    <tr>\n",
       "      <th>36149</th>\n",
       "      <td>TCROPjxfzCZzrQjqLqstSg</td>\n",
       "      <td>Red Cup Cafe &amp; Hookah Lounge</td>\n",
       "      <td>400 Fairmount Ave</td>\n",
       "      <td>Philadelphia</td>\n",
       "      <td>PA</td>\n",
       "      <td>19123</td>\n",
       "      <td>39.962577</td>\n",
       "      <td>-75.144748</td>\n",
       "      <td>4.0</td>\n",
       "      <td>53</td>\n",
       "      <td>...</td>\n",
       "      <td>Coffee &amp; Tea, Hookah Bars, Nightlife, Bars, Fo...</td>\n",
       "      <td>{'Thursday': '19:0-2:0', 'Friday': '19:0-2:0',...</td>\n",
       "      <td>NULOhR0r0NNLCtBkmWOrJQ</td>\n",
       "      <td>hiv9WTcga1GDE3Gv5rpZtg</td>\n",
       "      <td>4</td>\n",
       "      <td>3</td>\n",
       "      <td>0</td>\n",
       "      <td>0</td>\n",
       "      <td>Stopped by this new place today and met the ow...</td>\n",
       "      <td>2010-01-10 20:10:10</td>\n",
       "    </tr>\n",
       "  </tbody>\n",
       "</table>\n",
       "<p>36150 rows × 22 columns</p>\n",
       "</div>"
      ],
      "text/plain": [
       "                  business_id                          name  \\\n",
       "0      MTSW4McQd7CbVtyjqoe9mw            St Honore Pastries   \n",
       "1      MTSW4McQd7CbVtyjqoe9mw            St Honore Pastries   \n",
       "2      MTSW4McQd7CbVtyjqoe9mw            St Honore Pastries   \n",
       "3      MTSW4McQd7CbVtyjqoe9mw            St Honore Pastries   \n",
       "4      MTSW4McQd7CbVtyjqoe9mw            St Honore Pastries   \n",
       "...                       ...                           ...   \n",
       "36145  TCROPjxfzCZzrQjqLqstSg  Red Cup Cafe & Hookah Lounge   \n",
       "36146  TCROPjxfzCZzrQjqLqstSg  Red Cup Cafe & Hookah Lounge   \n",
       "36147  TCROPjxfzCZzrQjqLqstSg  Red Cup Cafe & Hookah Lounge   \n",
       "36148  TCROPjxfzCZzrQjqLqstSg  Red Cup Cafe & Hookah Lounge   \n",
       "36149  TCROPjxfzCZzrQjqLqstSg  Red Cup Cafe & Hookah Lounge   \n",
       "\n",
       "                 address          city state postal_code   latitude  \\\n",
       "0            935 Race St  Philadelphia    PA       19107  39.955505   \n",
       "1            935 Race St  Philadelphia    PA       19107  39.955505   \n",
       "2            935 Race St  Philadelphia    PA       19107  39.955505   \n",
       "3            935 Race St  Philadelphia    PA       19107  39.955505   \n",
       "4            935 Race St  Philadelphia    PA       19107  39.955505   \n",
       "...                  ...           ...   ...         ...        ...   \n",
       "36145  400 Fairmount Ave  Philadelphia    PA       19123  39.962577   \n",
       "36146  400 Fairmount Ave  Philadelphia    PA       19123  39.962577   \n",
       "36147  400 Fairmount Ave  Philadelphia    PA       19123  39.962577   \n",
       "36148  400 Fairmount Ave  Philadelphia    PA       19123  39.962577   \n",
       "36149  400 Fairmount Ave  Philadelphia    PA       19123  39.962577   \n",
       "\n",
       "       longitude  stars_x  review_count  ...  \\\n",
       "0     -75.155564      4.0            80  ...   \n",
       "1     -75.155564      4.0            80  ...   \n",
       "2     -75.155564      4.0            80  ...   \n",
       "3     -75.155564      4.0            80  ...   \n",
       "4     -75.155564      4.0            80  ...   \n",
       "...          ...      ...           ...  ...   \n",
       "36145 -75.144748      4.0            53  ...   \n",
       "36146 -75.144748      4.0            53  ...   \n",
       "36147 -75.144748      4.0            53  ...   \n",
       "36148 -75.144748      4.0            53  ...   \n",
       "36149 -75.144748      4.0            53  ...   \n",
       "\n",
       "                                              categories  \\\n",
       "0      Restaurants, Food, Bubble Tea, Coffee & Tea, B...   \n",
       "1      Restaurants, Food, Bubble Tea, Coffee & Tea, B...   \n",
       "2      Restaurants, Food, Bubble Tea, Coffee & Tea, B...   \n",
       "3      Restaurants, Food, Bubble Tea, Coffee & Tea, B...   \n",
       "4      Restaurants, Food, Bubble Tea, Coffee & Tea, B...   \n",
       "...                                                  ...   \n",
       "36145  Coffee & Tea, Hookah Bars, Nightlife, Bars, Fo...   \n",
       "36146  Coffee & Tea, Hookah Bars, Nightlife, Bars, Fo...   \n",
       "36147  Coffee & Tea, Hookah Bars, Nightlife, Bars, Fo...   \n",
       "36148  Coffee & Tea, Hookah Bars, Nightlife, Bars, Fo...   \n",
       "36149  Coffee & Tea, Hookah Bars, Nightlife, Bars, Fo...   \n",
       "\n",
       "                                                   hours  \\\n",
       "0      {'Monday': '7:0-20:0', 'Tuesday': '7:0-20:0', ...   \n",
       "1      {'Monday': '7:0-20:0', 'Tuesday': '7:0-20:0', ...   \n",
       "2      {'Monday': '7:0-20:0', 'Tuesday': '7:0-20:0', ...   \n",
       "3      {'Monday': '7:0-20:0', 'Tuesday': '7:0-20:0', ...   \n",
       "4      {'Monday': '7:0-20:0', 'Tuesday': '7:0-20:0', ...   \n",
       "...                                                  ...   \n",
       "36145  {'Thursday': '19:0-2:0', 'Friday': '19:0-2:0',...   \n",
       "36146  {'Thursday': '19:0-2:0', 'Friday': '19:0-2:0',...   \n",
       "36147  {'Thursday': '19:0-2:0', 'Friday': '19:0-2:0',...   \n",
       "36148  {'Thursday': '19:0-2:0', 'Friday': '19:0-2:0',...   \n",
       "36149  {'Thursday': '19:0-2:0', 'Friday': '19:0-2:0',...   \n",
       "\n",
       "                    review_id                 user_id stars_y useful  funny  \\\n",
       "0      BXQcBN0iAi1lAUxibGLFzA  6_SpY41LIHZuIaiDs5FMKA       4      0      0   \n",
       "1      uduvUCvi9w3T2bSGivCfXg  tCXElwhzekJEH6QJe3xs7Q       4      3      1   \n",
       "2      a0vwPOqDXXZuJkbBW2356g  WqfKtI-aGMmvbA9pPUxNQQ       5      0      0   \n",
       "3      MKNp_CdR2k2202-c8GN5Dw  3-1va0IQfK-9tUMzfHWfTA       5      5      0   \n",
       "4      D1GisLDPe84Rrk_R4X2brQ  EouCKoDfzaVG0klEgdDvCQ       4      2      1   \n",
       "...                       ...                     ...     ...    ...    ...   \n",
       "36145  a6Me3alvkz0ZHhTJflWAqg  Jt3GylPuH64uA3zTdbMdCg       5      2      1   \n",
       "36146  Edq9-3gpMaH24v6Um4Bpgg  CKtKGUeMGqEdFcKW4LfIbQ       3      0      0   \n",
       "36147  mvbKwURF-4VzoJkLAztOvg  6R5YFJ1WJ0bar-jgN84ZSg       5      0      0   \n",
       "36148  JJQcLSgqz-q61f-8-dWIvA  9PxNuhzOJ_nCOj4F-qQfrg       4      0      0   \n",
       "36149  NULOhR0r0NNLCtBkmWOrJQ  hiv9WTcga1GDE3Gv5rpZtg       4      3      0   \n",
       "\n",
       "       cool                                               text  \\\n",
       "0         1  This is nice little Chinese bakery in the hear...   \n",
       "1         2  This is the bakery I usually go to in Chinatow...   \n",
       "2         0  A delightful find in Chinatown! Very clean, an...   \n",
       "3         5  I ordered a graduation cake for my niece and i...   \n",
       "4         1  HK-STYLE MILK TEA:  FOUR STARS\\n\\nNot quite su...   \n",
       "...     ...                                                ...   \n",
       "36145     1  After spending the night at a friend's place i...   \n",
       "36146     0  Wondered upon this spot one day in early Janua...   \n",
       "36147     0  I give this place even more stars, if I could....   \n",
       "36148     0  Hours keep getting moved back. Now closing at ...   \n",
       "36149     0  Stopped by this new place today and met the ow...   \n",
       "\n",
       "                     date  \n",
       "0     2014-05-26 01:09:53  \n",
       "1     2013-10-05 15:19:06  \n",
       "2     2013-10-25 01:34:57  \n",
       "3     2018-05-20 17:58:57  \n",
       "4     2013-10-25 02:31:35  \n",
       "...                   ...  \n",
       "36145 2012-08-15 22:54:49  \n",
       "36146 2013-06-03 22:30:52  \n",
       "36147 2010-12-05 16:05:04  \n",
       "36148 2014-08-11 18:19:05  \n",
       "36149 2010-01-10 20:10:10  \n",
       "\n",
       "[36150 rows x 22 columns]"
      ]
     },
     "execution_count": 17,
     "metadata": {},
     "output_type": "execute_result"
    }
   ],
   "source": [
    "merged_data"
   ]
  },
  {
   "cell_type": "code",
   "execution_count": 18,
   "id": "119b4903",
   "metadata": {},
   "outputs": [
    {
     "ename": "TypeError",
     "evalue": "unhashable type: 'dict'",
     "output_type": "error",
     "traceback": [
      "\u001b[1;31m---------------------------------------------------------------------------\u001b[0m",
      "\u001b[1;31mTypeError\u001b[0m                                 Traceback (most recent call last)",
      "Cell \u001b[1;32mIn [18], line 2\u001b[0m\n\u001b[0;32m      1\u001b[0m \u001b[38;5;66;03m# Check for duplicate rows\u001b[39;00m\n\u001b[1;32m----> 2\u001b[0m duplicate_rows \u001b[38;5;241m=\u001b[39m \u001b[43mmerged_data\u001b[49m\u001b[38;5;241;43m.\u001b[39;49m\u001b[43mduplicated\u001b[49m\u001b[43m(\u001b[49m\u001b[43m)\u001b[49m\n\u001b[0;32m      4\u001b[0m \u001b[38;5;66;03m# Count the number of duplicate rows\u001b[39;00m\n\u001b[0;32m      5\u001b[0m num_duplicates \u001b[38;5;241m=\u001b[39m duplicate_rows\u001b[38;5;241m.\u001b[39msum()\n",
      "File \u001b[1;32m~\\anaconda3\\lib\\site-packages\\pandas\\core\\frame.py:6200\u001b[0m, in \u001b[0;36mDataFrame.duplicated\u001b[1;34m(self, subset, keep)\u001b[0m\n\u001b[0;32m   6197\u001b[0m     \u001b[38;5;28;01mraise\u001b[39;00m \u001b[38;5;167;01mKeyError\u001b[39;00m(diff)\n\u001b[0;32m   6199\u001b[0m vals \u001b[38;5;241m=\u001b[39m (col\u001b[38;5;241m.\u001b[39mvalues \u001b[38;5;28;01mfor\u001b[39;00m name, col \u001b[38;5;129;01min\u001b[39;00m \u001b[38;5;28mself\u001b[39m\u001b[38;5;241m.\u001b[39mitems() \u001b[38;5;28;01mif\u001b[39;00m name \u001b[38;5;129;01min\u001b[39;00m subset)\n\u001b[1;32m-> 6200\u001b[0m labels, shape \u001b[38;5;241m=\u001b[39m \u001b[38;5;28mmap\u001b[39m(\u001b[38;5;28mlist\u001b[39m, \u001b[38;5;28;43mzip\u001b[39;49m\u001b[43m(\u001b[49m\u001b[38;5;241;43m*\u001b[39;49m\u001b[38;5;28;43mmap\u001b[39;49m\u001b[43m(\u001b[49m\u001b[43mf\u001b[49m\u001b[43m,\u001b[49m\u001b[43m \u001b[49m\u001b[43mvals\u001b[49m\u001b[43m)\u001b[49m\u001b[43m)\u001b[49m)\n\u001b[0;32m   6202\u001b[0m ids \u001b[38;5;241m=\u001b[39m get_group_index(\n\u001b[0;32m   6203\u001b[0m     labels,\n\u001b[0;32m   6204\u001b[0m     \u001b[38;5;66;03m# error: Argument 1 to \"tuple\" has incompatible type \"List[_T]\";\u001b[39;00m\n\u001b[1;32m   (...)\u001b[0m\n\u001b[0;32m   6208\u001b[0m     xnull\u001b[38;5;241m=\u001b[39m\u001b[38;5;28;01mFalse\u001b[39;00m,\n\u001b[0;32m   6209\u001b[0m )\n\u001b[0;32m   6210\u001b[0m result \u001b[38;5;241m=\u001b[39m \u001b[38;5;28mself\u001b[39m\u001b[38;5;241m.\u001b[39m_constructor_sliced(duplicated(ids, keep), index\u001b[38;5;241m=\u001b[39m\u001b[38;5;28mself\u001b[39m\u001b[38;5;241m.\u001b[39mindex)\n",
      "File \u001b[1;32m~\\anaconda3\\lib\\site-packages\\pandas\\core\\frame.py:6173\u001b[0m, in \u001b[0;36mDataFrame.duplicated.<locals>.f\u001b[1;34m(vals)\u001b[0m\n\u001b[0;32m   6172\u001b[0m \u001b[38;5;28;01mdef\u001b[39;00m \u001b[38;5;21mf\u001b[39m(vals) \u001b[38;5;241m-\u001b[39m\u001b[38;5;241m>\u001b[39m \u001b[38;5;28mtuple\u001b[39m[np\u001b[38;5;241m.\u001b[39mndarray, \u001b[38;5;28mint\u001b[39m]:\n\u001b[1;32m-> 6173\u001b[0m     labels, shape \u001b[38;5;241m=\u001b[39m \u001b[43malgorithms\u001b[49m\u001b[38;5;241;43m.\u001b[39;49m\u001b[43mfactorize\u001b[49m\u001b[43m(\u001b[49m\u001b[43mvals\u001b[49m\u001b[43m,\u001b[49m\u001b[43m \u001b[49m\u001b[43msize_hint\u001b[49m\u001b[38;5;241;43m=\u001b[39;49m\u001b[38;5;28;43mlen\u001b[39;49m\u001b[43m(\u001b[49m\u001b[38;5;28;43mself\u001b[39;49m\u001b[43m)\u001b[49m\u001b[43m)\u001b[49m\n\u001b[0;32m   6174\u001b[0m     \u001b[38;5;28;01mreturn\u001b[39;00m labels\u001b[38;5;241m.\u001b[39mastype(\u001b[38;5;124m\"\u001b[39m\u001b[38;5;124mi8\u001b[39m\u001b[38;5;124m\"\u001b[39m, copy\u001b[38;5;241m=\u001b[39m\u001b[38;5;28;01mFalse\u001b[39;00m), \u001b[38;5;28mlen\u001b[39m(shape)\n",
      "File \u001b[1;32m~\\anaconda3\\lib\\site-packages\\pandas\\core\\algorithms.py:761\u001b[0m, in \u001b[0;36mfactorize\u001b[1;34m(values, sort, na_sentinel, size_hint)\u001b[0m\n\u001b[0;32m    758\u001b[0m     \u001b[38;5;28;01melse\u001b[39;00m:\n\u001b[0;32m    759\u001b[0m         na_value \u001b[38;5;241m=\u001b[39m \u001b[38;5;28;01mNone\u001b[39;00m\n\u001b[1;32m--> 761\u001b[0m     codes, uniques \u001b[38;5;241m=\u001b[39m \u001b[43mfactorize_array\u001b[49m\u001b[43m(\u001b[49m\n\u001b[0;32m    762\u001b[0m \u001b[43m        \u001b[49m\u001b[43mvalues\u001b[49m\u001b[43m,\u001b[49m\u001b[43m \u001b[49m\u001b[43mna_sentinel\u001b[49m\u001b[38;5;241;43m=\u001b[39;49m\u001b[43mna_sentinel\u001b[49m\u001b[43m,\u001b[49m\u001b[43m \u001b[49m\u001b[43msize_hint\u001b[49m\u001b[38;5;241;43m=\u001b[39;49m\u001b[43msize_hint\u001b[49m\u001b[43m,\u001b[49m\u001b[43m \u001b[49m\u001b[43mna_value\u001b[49m\u001b[38;5;241;43m=\u001b[39;49m\u001b[43mna_value\u001b[49m\n\u001b[0;32m    763\u001b[0m \u001b[43m    \u001b[49m\u001b[43m)\u001b[49m\n\u001b[0;32m    765\u001b[0m \u001b[38;5;28;01mif\u001b[39;00m sort \u001b[38;5;129;01mand\u001b[39;00m \u001b[38;5;28mlen\u001b[39m(uniques) \u001b[38;5;241m>\u001b[39m \u001b[38;5;241m0\u001b[39m:\n\u001b[0;32m    766\u001b[0m     uniques, codes \u001b[38;5;241m=\u001b[39m safe_sort(\n\u001b[0;32m    767\u001b[0m         uniques, codes, na_sentinel\u001b[38;5;241m=\u001b[39mna_sentinel, assume_unique\u001b[38;5;241m=\u001b[39m\u001b[38;5;28;01mTrue\u001b[39;00m, verify\u001b[38;5;241m=\u001b[39m\u001b[38;5;28;01mFalse\u001b[39;00m\n\u001b[0;32m    768\u001b[0m     )\n",
      "File \u001b[1;32m~\\anaconda3\\lib\\site-packages\\pandas\\core\\algorithms.py:563\u001b[0m, in \u001b[0;36mfactorize_array\u001b[1;34m(values, na_sentinel, size_hint, na_value, mask)\u001b[0m\n\u001b[0;32m    560\u001b[0m hash_klass, values \u001b[38;5;241m=\u001b[39m get_data_algo(values)\n\u001b[0;32m    562\u001b[0m table \u001b[38;5;241m=\u001b[39m hash_klass(size_hint \u001b[38;5;129;01mor\u001b[39;00m \u001b[38;5;28mlen\u001b[39m(values))\n\u001b[1;32m--> 563\u001b[0m uniques, codes \u001b[38;5;241m=\u001b[39m \u001b[43mtable\u001b[49m\u001b[38;5;241;43m.\u001b[39;49m\u001b[43mfactorize\u001b[49m\u001b[43m(\u001b[49m\n\u001b[0;32m    564\u001b[0m \u001b[43m    \u001b[49m\u001b[43mvalues\u001b[49m\u001b[43m,\u001b[49m\u001b[43m \u001b[49m\u001b[43mna_sentinel\u001b[49m\u001b[38;5;241;43m=\u001b[39;49m\u001b[43mna_sentinel\u001b[49m\u001b[43m,\u001b[49m\u001b[43m \u001b[49m\u001b[43mna_value\u001b[49m\u001b[38;5;241;43m=\u001b[39;49m\u001b[43mna_value\u001b[49m\u001b[43m,\u001b[49m\u001b[43m \u001b[49m\u001b[43mmask\u001b[49m\u001b[38;5;241;43m=\u001b[39;49m\u001b[43mmask\u001b[49m\n\u001b[0;32m    565\u001b[0m \u001b[43m\u001b[49m\u001b[43m)\u001b[49m\n\u001b[0;32m    567\u001b[0m codes \u001b[38;5;241m=\u001b[39m ensure_platform_int(codes)\n\u001b[0;32m    568\u001b[0m \u001b[38;5;28;01mreturn\u001b[39;00m codes, uniques\n",
      "File \u001b[1;32mpandas\\_libs\\hashtable_class_helper.pxi:5396\u001b[0m, in \u001b[0;36mpandas._libs.hashtable.PyObjectHashTable.factorize\u001b[1;34m()\u001b[0m\n",
      "File \u001b[1;32mpandas\\_libs\\hashtable_class_helper.pxi:5310\u001b[0m, in \u001b[0;36mpandas._libs.hashtable.PyObjectHashTable._unique\u001b[1;34m()\u001b[0m\n",
      "\u001b[1;31mTypeError\u001b[0m: unhashable type: 'dict'"
     ]
    }
   ],
   "source": [
    "# Check for duplicate rows\n",
    "duplicate_rows = merged_data.duplicated()\n",
    "\n",
    "# Count the number of duplicate rows\n",
    "num_duplicates = duplicate_rows.sum()\n",
    "\n",
    "# Print the number of duplicate rows\n",
    "print(\"Number of duplicate rows:\", num_duplicates)\n",
    "\n",
    "# Print the duplicate rows themselves\n",
    "print(\"Duplicate rows:\")\n",
    "print(merged_data[duplicate_rows])"
   ]
  },
  {
   "cell_type": "code",
   "execution_count": 19,
   "id": "c8d15232",
   "metadata": {},
   "outputs": [
    {
     "ename": "TypeError",
     "evalue": "unhashable type: 'dict'",
     "output_type": "error",
     "traceback": [
      "\u001b[1;31m---------------------------------------------------------------------------\u001b[0m",
      "\u001b[1;31mTypeError\u001b[0m                                 Traceback (most recent call last)",
      "Cell \u001b[1;32mIn [19], line 2\u001b[0m\n\u001b[0;32m      1\u001b[0m \u001b[38;5;66;03m# Drop duplicate rows\u001b[39;00m\n\u001b[1;32m----> 2\u001b[0m deduplicated_data \u001b[38;5;241m=\u001b[39m \u001b[43mmerged_data\u001b[49m\u001b[38;5;241;43m.\u001b[39;49m\u001b[43mdrop_duplicates\u001b[49m\u001b[43m(\u001b[49m\u001b[43m)\u001b[49m\n\u001b[0;32m      4\u001b[0m \u001b[38;5;66;03m# Access the deduplicated data\u001b[39;00m\n\u001b[0;32m      5\u001b[0m \u001b[38;5;28mprint\u001b[39m(deduplicated_data)\n",
      "File \u001b[1;32m~\\anaconda3\\lib\\site-packages\\pandas\\util\\_decorators.py:311\u001b[0m, in \u001b[0;36mdeprecate_nonkeyword_arguments.<locals>.decorate.<locals>.wrapper\u001b[1;34m(*args, **kwargs)\u001b[0m\n\u001b[0;32m    305\u001b[0m \u001b[38;5;28;01mif\u001b[39;00m \u001b[38;5;28mlen\u001b[39m(args) \u001b[38;5;241m>\u001b[39m num_allow_args:\n\u001b[0;32m    306\u001b[0m     warnings\u001b[38;5;241m.\u001b[39mwarn(\n\u001b[0;32m    307\u001b[0m         msg\u001b[38;5;241m.\u001b[39mformat(arguments\u001b[38;5;241m=\u001b[39marguments),\n\u001b[0;32m    308\u001b[0m         \u001b[38;5;167;01mFutureWarning\u001b[39;00m,\n\u001b[0;32m    309\u001b[0m         stacklevel\u001b[38;5;241m=\u001b[39mstacklevel,\n\u001b[0;32m    310\u001b[0m     )\n\u001b[1;32m--> 311\u001b[0m \u001b[38;5;28;01mreturn\u001b[39;00m func(\u001b[38;5;241m*\u001b[39margs, \u001b[38;5;241m*\u001b[39m\u001b[38;5;241m*\u001b[39mkwargs)\n",
      "File \u001b[1;32m~\\anaconda3\\lib\\site-packages\\pandas\\core\\frame.py:6063\u001b[0m, in \u001b[0;36mDataFrame.drop_duplicates\u001b[1;34m(self, subset, keep, inplace, ignore_index)\u001b[0m\n\u001b[0;32m   6061\u001b[0m inplace \u001b[38;5;241m=\u001b[39m validate_bool_kwarg(inplace, \u001b[38;5;124m\"\u001b[39m\u001b[38;5;124minplace\u001b[39m\u001b[38;5;124m\"\u001b[39m)\n\u001b[0;32m   6062\u001b[0m ignore_index \u001b[38;5;241m=\u001b[39m validate_bool_kwarg(ignore_index, \u001b[38;5;124m\"\u001b[39m\u001b[38;5;124mignore_index\u001b[39m\u001b[38;5;124m\"\u001b[39m)\n\u001b[1;32m-> 6063\u001b[0m duplicated \u001b[38;5;241m=\u001b[39m \u001b[38;5;28;43mself\u001b[39;49m\u001b[38;5;241;43m.\u001b[39;49m\u001b[43mduplicated\u001b[49m\u001b[43m(\u001b[49m\u001b[43msubset\u001b[49m\u001b[43m,\u001b[49m\u001b[43m \u001b[49m\u001b[43mkeep\u001b[49m\u001b[38;5;241;43m=\u001b[39;49m\u001b[43mkeep\u001b[49m\u001b[43m)\u001b[49m\n\u001b[0;32m   6065\u001b[0m result \u001b[38;5;241m=\u001b[39m \u001b[38;5;28mself\u001b[39m[\u001b[38;5;241m-\u001b[39mduplicated]\n\u001b[0;32m   6066\u001b[0m \u001b[38;5;28;01mif\u001b[39;00m ignore_index:\n",
      "File \u001b[1;32m~\\anaconda3\\lib\\site-packages\\pandas\\core\\frame.py:6200\u001b[0m, in \u001b[0;36mDataFrame.duplicated\u001b[1;34m(self, subset, keep)\u001b[0m\n\u001b[0;32m   6197\u001b[0m     \u001b[38;5;28;01mraise\u001b[39;00m \u001b[38;5;167;01mKeyError\u001b[39;00m(diff)\n\u001b[0;32m   6199\u001b[0m vals \u001b[38;5;241m=\u001b[39m (col\u001b[38;5;241m.\u001b[39mvalues \u001b[38;5;28;01mfor\u001b[39;00m name, col \u001b[38;5;129;01min\u001b[39;00m \u001b[38;5;28mself\u001b[39m\u001b[38;5;241m.\u001b[39mitems() \u001b[38;5;28;01mif\u001b[39;00m name \u001b[38;5;129;01min\u001b[39;00m subset)\n\u001b[1;32m-> 6200\u001b[0m labels, shape \u001b[38;5;241m=\u001b[39m \u001b[38;5;28mmap\u001b[39m(\u001b[38;5;28mlist\u001b[39m, \u001b[38;5;28;43mzip\u001b[39;49m\u001b[43m(\u001b[49m\u001b[38;5;241;43m*\u001b[39;49m\u001b[38;5;28;43mmap\u001b[39;49m\u001b[43m(\u001b[49m\u001b[43mf\u001b[49m\u001b[43m,\u001b[49m\u001b[43m \u001b[49m\u001b[43mvals\u001b[49m\u001b[43m)\u001b[49m\u001b[43m)\u001b[49m)\n\u001b[0;32m   6202\u001b[0m ids \u001b[38;5;241m=\u001b[39m get_group_index(\n\u001b[0;32m   6203\u001b[0m     labels,\n\u001b[0;32m   6204\u001b[0m     \u001b[38;5;66;03m# error: Argument 1 to \"tuple\" has incompatible type \"List[_T]\";\u001b[39;00m\n\u001b[1;32m   (...)\u001b[0m\n\u001b[0;32m   6208\u001b[0m     xnull\u001b[38;5;241m=\u001b[39m\u001b[38;5;28;01mFalse\u001b[39;00m,\n\u001b[0;32m   6209\u001b[0m )\n\u001b[0;32m   6210\u001b[0m result \u001b[38;5;241m=\u001b[39m \u001b[38;5;28mself\u001b[39m\u001b[38;5;241m.\u001b[39m_constructor_sliced(duplicated(ids, keep), index\u001b[38;5;241m=\u001b[39m\u001b[38;5;28mself\u001b[39m\u001b[38;5;241m.\u001b[39mindex)\n",
      "File \u001b[1;32m~\\anaconda3\\lib\\site-packages\\pandas\\core\\frame.py:6173\u001b[0m, in \u001b[0;36mDataFrame.duplicated.<locals>.f\u001b[1;34m(vals)\u001b[0m\n\u001b[0;32m   6172\u001b[0m \u001b[38;5;28;01mdef\u001b[39;00m \u001b[38;5;21mf\u001b[39m(vals) \u001b[38;5;241m-\u001b[39m\u001b[38;5;241m>\u001b[39m \u001b[38;5;28mtuple\u001b[39m[np\u001b[38;5;241m.\u001b[39mndarray, \u001b[38;5;28mint\u001b[39m]:\n\u001b[1;32m-> 6173\u001b[0m     labels, shape \u001b[38;5;241m=\u001b[39m \u001b[43malgorithms\u001b[49m\u001b[38;5;241;43m.\u001b[39;49m\u001b[43mfactorize\u001b[49m\u001b[43m(\u001b[49m\u001b[43mvals\u001b[49m\u001b[43m,\u001b[49m\u001b[43m \u001b[49m\u001b[43msize_hint\u001b[49m\u001b[38;5;241;43m=\u001b[39;49m\u001b[38;5;28;43mlen\u001b[39;49m\u001b[43m(\u001b[49m\u001b[38;5;28;43mself\u001b[39;49m\u001b[43m)\u001b[49m\u001b[43m)\u001b[49m\n\u001b[0;32m   6174\u001b[0m     \u001b[38;5;28;01mreturn\u001b[39;00m labels\u001b[38;5;241m.\u001b[39mastype(\u001b[38;5;124m\"\u001b[39m\u001b[38;5;124mi8\u001b[39m\u001b[38;5;124m\"\u001b[39m, copy\u001b[38;5;241m=\u001b[39m\u001b[38;5;28;01mFalse\u001b[39;00m), \u001b[38;5;28mlen\u001b[39m(shape)\n",
      "File \u001b[1;32m~\\anaconda3\\lib\\site-packages\\pandas\\core\\algorithms.py:761\u001b[0m, in \u001b[0;36mfactorize\u001b[1;34m(values, sort, na_sentinel, size_hint)\u001b[0m\n\u001b[0;32m    758\u001b[0m     \u001b[38;5;28;01melse\u001b[39;00m:\n\u001b[0;32m    759\u001b[0m         na_value \u001b[38;5;241m=\u001b[39m \u001b[38;5;28;01mNone\u001b[39;00m\n\u001b[1;32m--> 761\u001b[0m     codes, uniques \u001b[38;5;241m=\u001b[39m \u001b[43mfactorize_array\u001b[49m\u001b[43m(\u001b[49m\n\u001b[0;32m    762\u001b[0m \u001b[43m        \u001b[49m\u001b[43mvalues\u001b[49m\u001b[43m,\u001b[49m\u001b[43m \u001b[49m\u001b[43mna_sentinel\u001b[49m\u001b[38;5;241;43m=\u001b[39;49m\u001b[43mna_sentinel\u001b[49m\u001b[43m,\u001b[49m\u001b[43m \u001b[49m\u001b[43msize_hint\u001b[49m\u001b[38;5;241;43m=\u001b[39;49m\u001b[43msize_hint\u001b[49m\u001b[43m,\u001b[49m\u001b[43m \u001b[49m\u001b[43mna_value\u001b[49m\u001b[38;5;241;43m=\u001b[39;49m\u001b[43mna_value\u001b[49m\n\u001b[0;32m    763\u001b[0m \u001b[43m    \u001b[49m\u001b[43m)\u001b[49m\n\u001b[0;32m    765\u001b[0m \u001b[38;5;28;01mif\u001b[39;00m sort \u001b[38;5;129;01mand\u001b[39;00m \u001b[38;5;28mlen\u001b[39m(uniques) \u001b[38;5;241m>\u001b[39m \u001b[38;5;241m0\u001b[39m:\n\u001b[0;32m    766\u001b[0m     uniques, codes \u001b[38;5;241m=\u001b[39m safe_sort(\n\u001b[0;32m    767\u001b[0m         uniques, codes, na_sentinel\u001b[38;5;241m=\u001b[39mna_sentinel, assume_unique\u001b[38;5;241m=\u001b[39m\u001b[38;5;28;01mTrue\u001b[39;00m, verify\u001b[38;5;241m=\u001b[39m\u001b[38;5;28;01mFalse\u001b[39;00m\n\u001b[0;32m    768\u001b[0m     )\n",
      "File \u001b[1;32m~\\anaconda3\\lib\\site-packages\\pandas\\core\\algorithms.py:563\u001b[0m, in \u001b[0;36mfactorize_array\u001b[1;34m(values, na_sentinel, size_hint, na_value, mask)\u001b[0m\n\u001b[0;32m    560\u001b[0m hash_klass, values \u001b[38;5;241m=\u001b[39m get_data_algo(values)\n\u001b[0;32m    562\u001b[0m table \u001b[38;5;241m=\u001b[39m hash_klass(size_hint \u001b[38;5;129;01mor\u001b[39;00m \u001b[38;5;28mlen\u001b[39m(values))\n\u001b[1;32m--> 563\u001b[0m uniques, codes \u001b[38;5;241m=\u001b[39m \u001b[43mtable\u001b[49m\u001b[38;5;241;43m.\u001b[39;49m\u001b[43mfactorize\u001b[49m\u001b[43m(\u001b[49m\n\u001b[0;32m    564\u001b[0m \u001b[43m    \u001b[49m\u001b[43mvalues\u001b[49m\u001b[43m,\u001b[49m\u001b[43m \u001b[49m\u001b[43mna_sentinel\u001b[49m\u001b[38;5;241;43m=\u001b[39;49m\u001b[43mna_sentinel\u001b[49m\u001b[43m,\u001b[49m\u001b[43m \u001b[49m\u001b[43mna_value\u001b[49m\u001b[38;5;241;43m=\u001b[39;49m\u001b[43mna_value\u001b[49m\u001b[43m,\u001b[49m\u001b[43m \u001b[49m\u001b[43mmask\u001b[49m\u001b[38;5;241;43m=\u001b[39;49m\u001b[43mmask\u001b[49m\n\u001b[0;32m    565\u001b[0m \u001b[43m\u001b[49m\u001b[43m)\u001b[49m\n\u001b[0;32m    567\u001b[0m codes \u001b[38;5;241m=\u001b[39m ensure_platform_int(codes)\n\u001b[0;32m    568\u001b[0m \u001b[38;5;28;01mreturn\u001b[39;00m codes, uniques\n",
      "File \u001b[1;32mpandas\\_libs\\hashtable_class_helper.pxi:5396\u001b[0m, in \u001b[0;36mpandas._libs.hashtable.PyObjectHashTable.factorize\u001b[1;34m()\u001b[0m\n",
      "File \u001b[1;32mpandas\\_libs\\hashtable_class_helper.pxi:5310\u001b[0m, in \u001b[0;36mpandas._libs.hashtable.PyObjectHashTable._unique\u001b[1;34m()\u001b[0m\n",
      "\u001b[1;31mTypeError\u001b[0m: unhashable type: 'dict'"
     ]
    }
   ],
   "source": [
    "# Drop duplicate rows\n",
    "deduplicated_data = merged_data.drop_duplicates()\n",
    "\n",
    "# Access the deduplicated data\n",
    "print(deduplicated_data)"
   ]
  },
  {
   "cell_type": "code",
   "execution_count": 2,
   "id": "20513180",
   "metadata": {},
   "outputs": [
    {
     "name": "stdout",
     "output_type": "stream",
     "text": [
      "business_id         0\n",
      "name                0\n",
      "address             0\n",
      "city                0\n",
      "state               0\n",
      "postal_code         0\n",
      "latitude            0\n",
      "longitude           0\n",
      "stars               0\n",
      "review_count        0\n",
      "is_open             0\n",
      "attributes      13744\n",
      "categories        103\n",
      "hours           23223\n",
      "dtype: int64\n"
     ]
    }
   ],
   "source": [
    "# Check for missing values column-wise\n",
    "missing_values = business.isnull().sum()\n",
    "\n",
    "# Print the missing values count\n",
    "print(missing_values)\n"
   ]
  },
  {
   "cell_type": "markdown",
   "id": "f53fa6db",
   "metadata": {},
   "source": [
    "* Only attributes and Hours data consists most of the missing values."
   ]
  },
  {
   "cell_type": "code",
   "execution_count": 3,
   "id": "92c9c6eb",
   "metadata": {},
   "outputs": [
    {
     "name": "stdout",
     "output_type": "stream",
     "text": [
      "PA     34039\n",
      "FL     26330\n",
      "TN     12056\n",
      "IN     11247\n",
      "MO     10913\n",
      "LA      9924\n",
      "AZ      9912\n",
      "NJ      8536\n",
      "NV      7715\n",
      "AB      5573\n",
      "CA      5203\n",
      "ID      4467\n",
      "DE      2265\n",
      "IL      2145\n",
      "TX         4\n",
      "CO         3\n",
      "WA         2\n",
      "HI         2\n",
      "MA         2\n",
      "NC         1\n",
      "UT         1\n",
      "MT         1\n",
      "MI         1\n",
      "SD         1\n",
      "XMS        1\n",
      "VI         1\n",
      "VT         1\n",
      "Name: state, dtype: int64\n"
     ]
    }
   ],
   "source": [
    "# Count the occurrences of each state\n",
    "state_counts = business['state'].value_counts()\n",
    "\n",
    "# Display the state counts\n",
    "print(state_counts)\n"
   ]
  },
  {
   "cell_type": "markdown",
   "id": "1c3cc790",
   "metadata": {},
   "source": [
    "* Based on the statistics provided, it appears that the dataset only includes reviews from a limited number of states and does not cover all regions across the USA."
   ]
  },
  {
   "cell_type": "code",
   "execution_count": 5,
   "id": "ea20a130",
   "metadata": {},
   "outputs": [
    {
     "data": {
      "image/png": "[encoded data removed]",
      "text/plain": [
       "<Figure size 640x480 with 1 Axes>"
      ]
     },
     "metadata": {},
     "output_type": "display_data"
    }
   ],
   "source": [
    "# Create a bar graph\n",
    "plt.bar(state_counts.index, state_counts.values)\n",
    "\n",
    "# Customize the plot\n",
    "plt.xlabel('State')\n",
    "plt.ylabel('Count')\n",
    "plt.title('Counts of States in Yelp Dataset')\n",
    "\n",
    "# Rotate the x-axis labels if needed\n",
    "plt.xticks(rotation='vertical')\n",
    "\n",
    "# Display the plot\n",
    "plt.show()"
   ]
  },
  {
   "cell_type": "markdown",
   "id": "4c58379a",
   "metadata": {},
   "source": [
    "* Bar graph showing the review count with respect to each state."
   ]
  },
  {
   "cell_type": "code",
   "execution_count": 7,
   "id": "d2372bb2",
   "metadata": {},
   "outputs": [
    {
     "name": "stdout",
     "output_type": "stream",
     "text": [
      "1    119698\n",
      "0     30648\n",
      "Name: is_open, dtype: int64\n"
     ]
    }
   ],
   "source": [
    "# Count the occurrences of open and closed restaurants\n",
    "restaurant_status_counts = business['is_open'].value_counts()\n",
    "\n",
    "# Replace 0 and 1 with Closed and Open\n",
    "restaurant_status_counts = restaurant_status_counts.replace({0: 'Closed', 1: 'Open'})\n",
    "\n",
    "# Display the counts\n",
    "print(restaurant_status_counts)\n",
    "\n"
   ]
  },
  {
   "cell_type": "code",
   "execution_count": 11,
   "id": "57bcaf42",
   "metadata": {},
   "outputs": [
    {
     "data": {
      "image/png": "[encoded data removed]",
      "text/plain": [
       "<Figure size 640x480 with 1 Axes>"
      ]
     },
     "metadata": {},
     "output_type": "display_data"
    }
   ],
   "source": [
    "# Replace 0 and 1 with Closed and Open\n",
    "restaurant_status_counts = restaurant_status_counts.replace({0: 'Closed', 1: 'Open'})\n",
    "\n",
    "# Create a bar graph\n",
    "plt.bar(restaurant_status_counts.index, restaurant_status_counts.values)\n",
    "\n",
    "# Customize the plot\n",
    "plt.xlabel('Restaurant Status')\n",
    "plt.ylabel('Count')\n",
    "plt.title('Counts of Closed and Open Restaurants')\n",
    "\n",
    "# Replace x-axis labels with Closed and Open\n",
    "plt.xticks(restaurant_status_counts.index, restaurant_status_counts.values)\n",
    "\n",
    "# Display the plot\n",
    "plt.show()"
   ]
  },
  {
   "cell_type": "markdown",
   "id": "197ce2ac",
   "metadata": {},
   "source": [
    "* Bar graph showing the status of the restaurant whether it is closed or open."
   ]
  },
  {
   "cell_type": "code",
   "execution_count": 12,
   "id": "18c294c6",
   "metadata": {},
   "outputs": [
    {
     "name": "stdout",
     "output_type": "stream",
     "text": [
      "Average Rating:  3.5967235576603303\n"
     ]
    }
   ],
   "source": [
    "# Calculate the average rating\n",
    "average_rating = business['stars'].mean()\n",
    "\n",
    "# Display the average rating\n",
    "print(\"Average Rating: \", average_rating)"
   ]
  },
  {
   "cell_type": "markdown",
   "id": "878d50b6",
   "metadata": {},
   "source": [
    "* we can notice the average rating of the whole restaurant dataset is 3.59."
   ]
  },
  {
   "cell_type": "code",
   "execution_count": 13,
   "id": "9a57656a",
   "metadata": {},
   "outputs": [
    {
     "data": {
      "image/png": "[encoded data removed]",
      "text/plain": [
       "<Figure size 640x480 with 1 Axes>"
      ]
     },
     "metadata": {},
     "output_type": "display_data"
    }
   ],
   "source": [
    "# Extract the ratings column\n",
    "ratings = business['stars']\n",
    "\n",
    "# Plot the distribution of ratings\n",
    "plt.hist(ratings, bins=5, edgecolor='black')\n",
    "\n",
    "# Customize the plot\n",
    "plt.xlabel('Rating')\n",
    "plt.ylabel('Count')\n",
    "plt.title('Distribution of Ratings')\n",
    "\n",
    "# Display the plot\n",
    "plt.show()"
   ]
  },
  {
   "cell_type": "markdown",
   "id": "e4d0a1a4",
   "metadata": {},
   "source": [
    "* Distribution of ratings show that the ratings are mostly fall in the 3.5 to 4.0 range."
   ]
  },
  {
   "cell_type": "code",
   "execution_count": 15,
   "id": "012e8279",
   "metadata": {},
   "outputs": [
    {
     "data": {
      "image/png": "[encoded data removed]",
      "text/plain": [
       "<Figure size 640x480 with 1 Axes>"
      ]
     },
     "metadata": {},
     "output_type": "display_data"
    }
   ],
   "source": [
    "# Extract the business categories column\n",
    "categories = business['categories']\n",
    "\n",
    "# Split categories by comma and count the occurrences\n",
    "category_counts = categories.str.split(',', expand=True).stack().value_counts()\n",
    "\n",
    "# Get the top 20 categories\n",
    "top_20_categories = category_counts.head(20)\n",
    "\n",
    "# Plot the top 20 business categories\n",
    "plt.bar(top_20_categories.index, top_20_categories.values)\n",
    "\n",
    "# Customize the plot\n",
    "plt.xlabel('Category')\n",
    "plt.ylabel('Count')\n",
    "plt.title('Top 20 Business Categories')\n",
    "\n",
    "# Rotate the x-axis labels if needed\n",
    "plt.xticks(rotation='vertical')\n",
    "\n",
    "# Display the plot\n",
    "plt.show()"
   ]
  },
  {
   "cell_type": "markdown",
   "id": "9b39c56b",
   "metadata": {},
   "source": [
    "* Observed the top 20 business categories. "
   ]
  }
 ],
 "metadata": {
  "kernelspec": {
   "display_name": "Python 3 (ipykernel)",
   "language": "python",
   "name": "python3"
  },
  "language_info": {
   "codemirror_mode": {
    "name": "ipython",
    "version": 3
   },
   "file_extension": ".py",
   "mimetype": "text/x-python",
   "name": "python",
   "nbconvert_exporter": "python",
   "pygments_lexer": "ipython3",
   "version": "3.9.7"
  }
 },
 "nbformat": 4,
 "nbformat_minor": 5
}
